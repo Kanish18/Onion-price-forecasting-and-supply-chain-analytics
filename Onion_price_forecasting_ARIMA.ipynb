{
  "nbformat": 4,
  "nbformat_minor": 0,
  "metadata": {
    "accelerator": "GPU",
    "colab": {
      "name": "Onion price forecasting.ipynb",
      "provenance": [],
      "authorship_tag": "ABX9TyM64/yczOoqnmFaibQ16Q+c",
      "include_colab_link": true
    },
    "kernelspec": {
      "display_name": "Python 3",
      "name": "python3"
    },
    "language_info": {
      "name": "python"
    }
  },
  "cells": [
    {
      "cell_type": "markdown",
      "metadata": {
        "id": "view-in-github",
        "colab_type": "text"
      },
      "source": [
        "<a href=\"https://colab.research.google.com/github/hariPrasadCoder/Onion-price-forecasting-and-supply-chain-analytics/blob/main/Onion_price_forecasting_ARIMA.ipynb\" target=\"_parent\"><img src=\"https://colab.research.google.com/assets/colab-badge.svg\" alt=\"Open In Colab\"/></a>"
      ]
    },
    {
      "cell_type": "markdown",
      "metadata": {
        "id": "xHpkxZ15tc3h"
      },
      "source": [
        "# ONION PRICE FORECASTING USING ARIMA MODEL:"
      ]
    },
    {
      "cell_type": "markdown",
      "metadata": {
        "id": "eUM9hTvp3HON"
      },
      "source": [
        "## Importing necessary basic libraries:"
      ]
    },
    {
      "cell_type": "code",
      "metadata": {
        "id": "6shR-iaMxRAJ"
      },
      "source": [
        "import numpy as np\n",
        "import pandas as pd\n",
        "import matplotlib.pyplot as plt\n",
        "%matplotlib inline\n",
        "from sklearn.metrics import mean_squared_error\n",
        "from math import sqrt"
      ],
      "execution_count": null,
      "outputs": []
    },
    {
      "cell_type": "markdown",
      "metadata": {
        "id": "NhdI25Qe3Oh2"
      },
      "source": [
        "## Reading the dataset:"
      ]
    },
    {
      "cell_type": "code",
      "metadata": {
        "colab": {
          "base_uri": "https://localhost:8080/",
          "height": 203
        },
        "id": "IBQiceo4x9HC",
        "outputId": "146aceee-199c-4375-edd6-4750c11a240f"
      },
      "source": [
        "df = pd.read_excel('MonthWiseMarketArrivals_Chennai.xlsx')\n",
        "df.head()"
      ],
      "execution_count": null,
      "outputs": [
        {
          "output_type": "execute_result",
          "data": {
            "text/html": [
              "<div>\n",
              "<style scoped>\n",
              "    .dataframe tbody tr th:only-of-type {\n",
              "        vertical-align: middle;\n",
              "    }\n",
              "\n",
              "    .dataframe tbody tr th {\n",
              "        vertical-align: top;\n",
              "    }\n",
              "\n",
              "    .dataframe thead th {\n",
              "        text-align: right;\n",
              "    }\n",
              "</style>\n",
              "<table border=\"1\" class=\"dataframe\">\n",
              "  <thead>\n",
              "    <tr style=\"text-align: right;\">\n",
              "      <th></th>\n",
              "      <th>market</th>\n",
              "      <th>month</th>\n",
              "      <th>year</th>\n",
              "      <th>quantity</th>\n",
              "      <th>priceMin</th>\n",
              "      <th>priceMax</th>\n",
              "      <th>priceMod</th>\n",
              "    </tr>\n",
              "  </thead>\n",
              "  <tbody>\n",
              "    <tr>\n",
              "      <th>0</th>\n",
              "      <td>CHENNAI</td>\n",
              "      <td>January</td>\n",
              "      <td>2004</td>\n",
              "      <td>103400</td>\n",
              "      <td>798</td>\n",
              "      <td>1019</td>\n",
              "      <td>910</td>\n",
              "    </tr>\n",
              "    <tr>\n",
              "      <th>1</th>\n",
              "      <td>CHENNAI</td>\n",
              "      <td>February</td>\n",
              "      <td>2004</td>\n",
              "      <td>87800</td>\n",
              "      <td>776</td>\n",
              "      <td>969</td>\n",
              "      <td>873</td>\n",
              "    </tr>\n",
              "    <tr>\n",
              "      <th>2</th>\n",
              "      <td>CHENNAI</td>\n",
              "      <td>March</td>\n",
              "      <td>2004</td>\n",
              "      <td>102180</td>\n",
              "      <td>506</td>\n",
              "      <td>656</td>\n",
              "      <td>580</td>\n",
              "    </tr>\n",
              "    <tr>\n",
              "      <th>3</th>\n",
              "      <td>CHENNAI</td>\n",
              "      <td>April</td>\n",
              "      <td>2004</td>\n",
              "      <td>83300</td>\n",
              "      <td>448</td>\n",
              "      <td>599</td>\n",
              "      <td>527</td>\n",
              "    </tr>\n",
              "    <tr>\n",
              "      <th>4</th>\n",
              "      <td>CHENNAI</td>\n",
              "      <td>May</td>\n",
              "      <td>2004</td>\n",
              "      <td>84850</td>\n",
              "      <td>462</td>\n",
              "      <td>596</td>\n",
              "      <td>529</td>\n",
              "    </tr>\n",
              "  </tbody>\n",
              "</table>\n",
              "</div>"
            ],
            "text/plain": [
              "    market     month  year  quantity  priceMin  priceMax  priceMod\n",
              "0  CHENNAI   January  2004    103400       798      1019       910\n",
              "1  CHENNAI  February  2004     87800       776       969       873\n",
              "2  CHENNAI     March  2004    102180       506       656       580\n",
              "3  CHENNAI     April  2004     83300       448       599       527\n",
              "4  CHENNAI       May  2004     84850       462       596       529"
            ]
          },
          "metadata": {
            "tags": []
          },
          "execution_count": 118
        }
      ]
    },
    {
      "cell_type": "code",
      "metadata": {
        "colab": {
          "base_uri": "https://localhost:8080/",
          "height": 203
        },
        "id": "7pSqJpUEyKx-",
        "outputId": "87bdc078-230b-439f-88e3-7f2cf7a4f2a5"
      },
      "source": [
        "df = df[['month','year','priceMod']]\n",
        "df.head()"
      ],
      "execution_count": null,
      "outputs": [
        {
          "output_type": "execute_result",
          "data": {
            "text/html": [
              "<div>\n",
              "<style scoped>\n",
              "    .dataframe tbody tr th:only-of-type {\n",
              "        vertical-align: middle;\n",
              "    }\n",
              "\n",
              "    .dataframe tbody tr th {\n",
              "        vertical-align: top;\n",
              "    }\n",
              "\n",
              "    .dataframe thead th {\n",
              "        text-align: right;\n",
              "    }\n",
              "</style>\n",
              "<table border=\"1\" class=\"dataframe\">\n",
              "  <thead>\n",
              "    <tr style=\"text-align: right;\">\n",
              "      <th></th>\n",
              "      <th>month</th>\n",
              "      <th>year</th>\n",
              "      <th>priceMod</th>\n",
              "    </tr>\n",
              "  </thead>\n",
              "  <tbody>\n",
              "    <tr>\n",
              "      <th>0</th>\n",
              "      <td>January</td>\n",
              "      <td>2004</td>\n",
              "      <td>910</td>\n",
              "    </tr>\n",
              "    <tr>\n",
              "      <th>1</th>\n",
              "      <td>February</td>\n",
              "      <td>2004</td>\n",
              "      <td>873</td>\n",
              "    </tr>\n",
              "    <tr>\n",
              "      <th>2</th>\n",
              "      <td>March</td>\n",
              "      <td>2004</td>\n",
              "      <td>580</td>\n",
              "    </tr>\n",
              "    <tr>\n",
              "      <th>3</th>\n",
              "      <td>April</td>\n",
              "      <td>2004</td>\n",
              "      <td>527</td>\n",
              "    </tr>\n",
              "    <tr>\n",
              "      <th>4</th>\n",
              "      <td>May</td>\n",
              "      <td>2004</td>\n",
              "      <td>529</td>\n",
              "    </tr>\n",
              "  </tbody>\n",
              "</table>\n",
              "</div>"
            ],
            "text/plain": [
              "      month  year  priceMod\n",
              "0   January  2004       910\n",
              "1  February  2004       873\n",
              "2     March  2004       580\n",
              "3     April  2004       527\n",
              "4       May  2004       529"
            ]
          },
          "metadata": {
            "tags": []
          },
          "execution_count": 119
        }
      ]
    },
    {
      "cell_type": "markdown",
      "metadata": {
        "id": "f3hhRra93TxK"
      },
      "source": [
        "## Combining \"month\" and \"year\" columns:"
      ]
    },
    {
      "cell_type": "code",
      "metadata": {
        "colab": {
          "base_uri": "https://localhost:8080/",
          "height": 203
        },
        "id": "H-nVFAaDyftd",
        "outputId": "6195fd86-8c62-4488-e232-83efd78ba8c7"
      },
      "source": [
        "df['date'] = df['month'] + '-' + df['year'].map(str)\n",
        "df.head()"
      ],
      "execution_count": null,
      "outputs": [
        {
          "output_type": "execute_result",
          "data": {
            "text/html": [
              "<div>\n",
              "<style scoped>\n",
              "    .dataframe tbody tr th:only-of-type {\n",
              "        vertical-align: middle;\n",
              "    }\n",
              "\n",
              "    .dataframe tbody tr th {\n",
              "        vertical-align: top;\n",
              "    }\n",
              "\n",
              "    .dataframe thead th {\n",
              "        text-align: right;\n",
              "    }\n",
              "</style>\n",
              "<table border=\"1\" class=\"dataframe\">\n",
              "  <thead>\n",
              "    <tr style=\"text-align: right;\">\n",
              "      <th></th>\n",
              "      <th>month</th>\n",
              "      <th>year</th>\n",
              "      <th>priceMod</th>\n",
              "      <th>date</th>\n",
              "    </tr>\n",
              "  </thead>\n",
              "  <tbody>\n",
              "    <tr>\n",
              "      <th>0</th>\n",
              "      <td>January</td>\n",
              "      <td>2004</td>\n",
              "      <td>910</td>\n",
              "      <td>January-2004</td>\n",
              "    </tr>\n",
              "    <tr>\n",
              "      <th>1</th>\n",
              "      <td>February</td>\n",
              "      <td>2004</td>\n",
              "      <td>873</td>\n",
              "      <td>February-2004</td>\n",
              "    </tr>\n",
              "    <tr>\n",
              "      <th>2</th>\n",
              "      <td>March</td>\n",
              "      <td>2004</td>\n",
              "      <td>580</td>\n",
              "      <td>March-2004</td>\n",
              "    </tr>\n",
              "    <tr>\n",
              "      <th>3</th>\n",
              "      <td>April</td>\n",
              "      <td>2004</td>\n",
              "      <td>527</td>\n",
              "      <td>April-2004</td>\n",
              "    </tr>\n",
              "    <tr>\n",
              "      <th>4</th>\n",
              "      <td>May</td>\n",
              "      <td>2004</td>\n",
              "      <td>529</td>\n",
              "      <td>May-2004</td>\n",
              "    </tr>\n",
              "  </tbody>\n",
              "</table>\n",
              "</div>"
            ],
            "text/plain": [
              "      month  year  priceMod           date\n",
              "0   January  2004       910   January-2004\n",
              "1  February  2004       873  February-2004\n",
              "2     March  2004       580     March-2004\n",
              "3     April  2004       527     April-2004\n",
              "4       May  2004       529       May-2004"
            ]
          },
          "metadata": {
            "tags": []
          },
          "execution_count": 120
        }
      ]
    },
    {
      "cell_type": "code",
      "metadata": {
        "id": "2JyoyiZszNoa"
      },
      "source": [
        "df.date = pd.to_datetime(df.date)"
      ],
      "execution_count": null,
      "outputs": []
    },
    {
      "cell_type": "code",
      "metadata": {
        "colab": {
          "base_uri": "https://localhost:8080/",
          "height": 203
        },
        "id": "s0RNRDxRzsKH",
        "outputId": "b717d9ff-4445-4707-eebb-9f0f348a9978"
      },
      "source": [
        "df.head()"
      ],
      "execution_count": null,
      "outputs": [
        {
          "output_type": "execute_result",
          "data": {
            "text/html": [
              "<div>\n",
              "<style scoped>\n",
              "    .dataframe tbody tr th:only-of-type {\n",
              "        vertical-align: middle;\n",
              "    }\n",
              "\n",
              "    .dataframe tbody tr th {\n",
              "        vertical-align: top;\n",
              "    }\n",
              "\n",
              "    .dataframe thead th {\n",
              "        text-align: right;\n",
              "    }\n",
              "</style>\n",
              "<table border=\"1\" class=\"dataframe\">\n",
              "  <thead>\n",
              "    <tr style=\"text-align: right;\">\n",
              "      <th></th>\n",
              "      <th>month</th>\n",
              "      <th>year</th>\n",
              "      <th>priceMod</th>\n",
              "      <th>date</th>\n",
              "    </tr>\n",
              "  </thead>\n",
              "  <tbody>\n",
              "    <tr>\n",
              "      <th>0</th>\n",
              "      <td>January</td>\n",
              "      <td>2004</td>\n",
              "      <td>910</td>\n",
              "      <td>2004-01-01</td>\n",
              "    </tr>\n",
              "    <tr>\n",
              "      <th>1</th>\n",
              "      <td>February</td>\n",
              "      <td>2004</td>\n",
              "      <td>873</td>\n",
              "      <td>2004-02-01</td>\n",
              "    </tr>\n",
              "    <tr>\n",
              "      <th>2</th>\n",
              "      <td>March</td>\n",
              "      <td>2004</td>\n",
              "      <td>580</td>\n",
              "      <td>2004-03-01</td>\n",
              "    </tr>\n",
              "    <tr>\n",
              "      <th>3</th>\n",
              "      <td>April</td>\n",
              "      <td>2004</td>\n",
              "      <td>527</td>\n",
              "      <td>2004-04-01</td>\n",
              "    </tr>\n",
              "    <tr>\n",
              "      <th>4</th>\n",
              "      <td>May</td>\n",
              "      <td>2004</td>\n",
              "      <td>529</td>\n",
              "      <td>2004-05-01</td>\n",
              "    </tr>\n",
              "  </tbody>\n",
              "</table>\n",
              "</div>"
            ],
            "text/plain": [
              "      month  year  priceMod       date\n",
              "0   January  2004       910 2004-01-01\n",
              "1  February  2004       873 2004-02-01\n",
              "2     March  2004       580 2004-03-01\n",
              "3     April  2004       527 2004-04-01\n",
              "4       May  2004       529 2004-05-01"
            ]
          },
          "metadata": {
            "tags": []
          },
          "execution_count": 122
        }
      ]
    },
    {
      "cell_type": "markdown",
      "metadata": {
        "id": "pX_HnOC5tnL6"
      },
      "source": [
        "## Considering only the \"date\" and \"Price\" features for further steps:"
      ]
    },
    {
      "cell_type": "code",
      "metadata": {
        "colab": {
          "base_uri": "https://localhost:8080/",
          "height": 203
        },
        "id": "lgXY06n3z1wC",
        "outputId": "47775726-58a6-4147-b118-f96f0d14c0f8"
      },
      "source": [
        "df = df[['date','priceMod']]\n",
        "df.head()"
      ],
      "execution_count": null,
      "outputs": [
        {
          "output_type": "execute_result",
          "data": {
            "text/html": [
              "<div>\n",
              "<style scoped>\n",
              "    .dataframe tbody tr th:only-of-type {\n",
              "        vertical-align: middle;\n",
              "    }\n",
              "\n",
              "    .dataframe tbody tr th {\n",
              "        vertical-align: top;\n",
              "    }\n",
              "\n",
              "    .dataframe thead th {\n",
              "        text-align: right;\n",
              "    }\n",
              "</style>\n",
              "<table border=\"1\" class=\"dataframe\">\n",
              "  <thead>\n",
              "    <tr style=\"text-align: right;\">\n",
              "      <th></th>\n",
              "      <th>date</th>\n",
              "      <th>priceMod</th>\n",
              "    </tr>\n",
              "  </thead>\n",
              "  <tbody>\n",
              "    <tr>\n",
              "      <th>0</th>\n",
              "      <td>2004-01-01</td>\n",
              "      <td>910</td>\n",
              "    </tr>\n",
              "    <tr>\n",
              "      <th>1</th>\n",
              "      <td>2004-02-01</td>\n",
              "      <td>873</td>\n",
              "    </tr>\n",
              "    <tr>\n",
              "      <th>2</th>\n",
              "      <td>2004-03-01</td>\n",
              "      <td>580</td>\n",
              "    </tr>\n",
              "    <tr>\n",
              "      <th>3</th>\n",
              "      <td>2004-04-01</td>\n",
              "      <td>527</td>\n",
              "    </tr>\n",
              "    <tr>\n",
              "      <th>4</th>\n",
              "      <td>2004-05-01</td>\n",
              "      <td>529</td>\n",
              "    </tr>\n",
              "  </tbody>\n",
              "</table>\n",
              "</div>"
            ],
            "text/plain": [
              "        date  priceMod\n",
              "0 2004-01-01       910\n",
              "1 2004-02-01       873\n",
              "2 2004-03-01       580\n",
              "3 2004-04-01       527\n",
              "4 2004-05-01       529"
            ]
          },
          "metadata": {
            "tags": []
          },
          "execution_count": 123
        }
      ]
    },
    {
      "cell_type": "markdown",
      "metadata": {
        "id": "aOAoB8-tt2E4"
      },
      "source": [
        "## Setting the \"date\" column as an index:"
      ]
    },
    {
      "cell_type": "code",
      "metadata": {
        "id": "yI4t-VeH1HPX"
      },
      "source": [
        "df = df.set_index('date')"
      ],
      "execution_count": null,
      "outputs": []
    },
    {
      "cell_type": "code",
      "metadata": {
        "colab": {
          "base_uri": "https://localhost:8080/",
          "height": 234
        },
        "id": "vSMqiRmi1J5N",
        "outputId": "bc2592ea-4bc0-4074-e252-cabf4509da36"
      },
      "source": [
        "df.head()"
      ],
      "execution_count": null,
      "outputs": [
        {
          "output_type": "execute_result",
          "data": {
            "text/html": [
              "<div>\n",
              "<style scoped>\n",
              "    .dataframe tbody tr th:only-of-type {\n",
              "        vertical-align: middle;\n",
              "    }\n",
              "\n",
              "    .dataframe tbody tr th {\n",
              "        vertical-align: top;\n",
              "    }\n",
              "\n",
              "    .dataframe thead th {\n",
              "        text-align: right;\n",
              "    }\n",
              "</style>\n",
              "<table border=\"1\" class=\"dataframe\">\n",
              "  <thead>\n",
              "    <tr style=\"text-align: right;\">\n",
              "      <th></th>\n",
              "      <th>priceMod</th>\n",
              "    </tr>\n",
              "    <tr>\n",
              "      <th>date</th>\n",
              "      <th></th>\n",
              "    </tr>\n",
              "  </thead>\n",
              "  <tbody>\n",
              "    <tr>\n",
              "      <th>2004-01-01</th>\n",
              "      <td>910</td>\n",
              "    </tr>\n",
              "    <tr>\n",
              "      <th>2004-02-01</th>\n",
              "      <td>873</td>\n",
              "    </tr>\n",
              "    <tr>\n",
              "      <th>2004-03-01</th>\n",
              "      <td>580</td>\n",
              "    </tr>\n",
              "    <tr>\n",
              "      <th>2004-04-01</th>\n",
              "      <td>527</td>\n",
              "    </tr>\n",
              "    <tr>\n",
              "      <th>2004-05-01</th>\n",
              "      <td>529</td>\n",
              "    </tr>\n",
              "  </tbody>\n",
              "</table>\n",
              "</div>"
            ],
            "text/plain": [
              "            priceMod\n",
              "date                \n",
              "2004-01-01       910\n",
              "2004-02-01       873\n",
              "2004-03-01       580\n",
              "2004-04-01       527\n",
              "2004-05-01       529"
            ]
          },
          "metadata": {
            "tags": []
          },
          "execution_count": 125
        }
      ]
    },
    {
      "cell_type": "markdown",
      "metadata": {
        "id": "Cm5lPWhtt8cK"
      },
      "source": [
        "## Converting DataFrame to Series:"
      ]
    },
    {
      "cell_type": "code",
      "metadata": {
        "colab": {
          "base_uri": "https://localhost:8080/"
        },
        "id": "XJka0AGO1LdQ",
        "outputId": "0167afb9-0336-48db-9743-2ee25fb66d63"
      },
      "source": [
        "df = df.squeeze()\n",
        "df"
      ],
      "execution_count": null,
      "outputs": [
        {
          "output_type": "execute_result",
          "data": {
            "text/plain": [
              "date\n",
              "2004-01-01     910\n",
              "2004-02-01     873\n",
              "2004-03-01     580\n",
              "2004-04-01     527\n",
              "2004-05-01     529\n",
              "              ... \n",
              "2021-01-01    2976\n",
              "2021-02-01    4211\n",
              "2021-03-01    3300\n",
              "2021-04-01    1100\n",
              "2021-05-01    1150\n",
              "Name: priceMod, Length: 209, dtype: int64"
            ]
          },
          "metadata": {
            "tags": []
          },
          "execution_count": 126
        }
      ]
    },
    {
      "cell_type": "markdown",
      "metadata": {
        "id": "3L9fcN8buAnj"
      },
      "source": [
        "## Splitting the dataset to train and validation, and saving it as separate csv files:"
      ]
    },
    {
      "cell_type": "code",
      "metadata": {
        "colab": {
          "base_uri": "https://localhost:8080/"
        },
        "id": "F29yb2dS18Zr",
        "outputId": "830b7ab8-f23e-486b-8c06-b3023ae75d13"
      },
      "source": [
        "split_point = len(df) - 5\n",
        "dataset, validation = df[0:split_point], df[split_point:]\n",
        "print('Dataset %d, Validation %d' % (len(dataset), len(validation)))\n",
        "dataset.to_csv('onion_dataset_final.csv', header=False)\n",
        "validation.to_csv('onion_validation.csv', header=False)"
      ],
      "execution_count": null,
      "outputs": [
        {
          "output_type": "stream",
          "text": [
            "Dataset 204, Validation 5\n"
          ],
          "name": "stdout"
        }
      ]
    },
    {
      "cell_type": "markdown",
      "metadata": {
        "id": "48rS7HQCuPCD"
      },
      "source": [
        "## Fitting the model using a baseline model called \"Persistence model\":"
      ]
    },
    {
      "cell_type": "markdown",
      "metadata": {
        "id": "f6WcDP7tuO7R"
      },
      "source": [
        ""
      ]
    },
    {
      "cell_type": "code",
      "metadata": {
        "colab": {
          "base_uri": "https://localhost:8080/"
        },
        "id": "QtPPh34i3h0M",
        "outputId": "2b9dfaf0-2ba4-47b6-8d54-0505f38f39a9"
      },
      "source": [
        "# evaluate a persistence model\n",
        "series = pd.read_csv('onion_dataset_final.csv', header=None, index_col=0, parse_dates=True, squeeze=True)\n",
        "# prepare data\n",
        "X = series.values\n",
        "X = X.astype('float32')\n",
        "train_size = int(len(X) * 0.50)\n",
        "train, test = X[0:train_size], X[train_size:]\n",
        "# walk-forward validation\n",
        "history = [x for x in train]\n",
        "predictions = list()\n",
        "for i in range(len(test)):\n",
        "  # predict\n",
        "  yhat = history[-1]\n",
        "  predictions.append(yhat)\n",
        "  # observation\n",
        "  obs = test[i]\n",
        "  history.append(obs)\n",
        "  print('>Predicted=%.3f, Expected=%.3f' % (yhat, obs))\n",
        "# report performance\n",
        "rmse = sqrt(mean_squared_error(test, predictions))\n",
        "print('RMSE: %.3f' % rmse)"
      ],
      "execution_count": null,
      "outputs": [
        {
          "output_type": "stream",
          "text": [
            ">Predicted=887.000, Expected=1038.000\n",
            ">Predicted=1038.000, Expected=1143.000\n",
            ">Predicted=1143.000, Expected=1123.000\n",
            ">Predicted=1123.000, Expected=1269.000\n",
            ">Predicted=1269.000, Expected=1921.000\n",
            ">Predicted=1921.000, Expected=1910.000\n",
            ">Predicted=1910.000, Expected=1964.000\n",
            ">Predicted=1964.000, Expected=2033.000\n",
            ">Predicted=2033.000, Expected=1518.000\n",
            ">Predicted=1518.000, Expected=1410.000\n",
            ">Predicted=1410.000, Expected=1431.000\n",
            ">Predicted=1431.000, Expected=1850.000\n",
            ">Predicted=1850.000, Expected=2756.000\n",
            ">Predicted=2756.000, Expected=4530.000\n",
            ">Predicted=4530.000, Expected=5217.000\n",
            ">Predicted=5217.000, Expected=4676.000\n",
            ">Predicted=4676.000, Expected=4705.000\n",
            ">Predicted=4705.000, Expected=2609.000\n",
            ">Predicted=2609.000, Expected=1477.000\n",
            ">Predicted=1477.000, Expected=1300.000\n",
            ">Predicted=1300.000, Expected=1288.000\n",
            ">Predicted=1288.000, Expected=1320.000\n",
            ">Predicted=1320.000, Expected=1640.000\n",
            ">Predicted=1640.000, Expected=2288.000\n",
            ">Predicted=2288.000, Expected=2981.000\n",
            ">Predicted=2981.000, Expected=2691.000\n",
            ">Predicted=2691.000, Expected=2404.000\n",
            ">Predicted=2404.000, Expected=2338.000\n",
            ">Predicted=2338.000, Expected=2420.000\n",
            ">Predicted=2420.000, Expected=2404.000\n",
            ">Predicted=2404.000, Expected=2142.000\n",
            ">Predicted=2142.000, Expected=2242.000\n",
            ">Predicted=2242.000, Expected=2113.000\n",
            ">Predicted=2113.000, Expected=1882.000\n",
            ">Predicted=1882.000, Expected=2017.000\n",
            ">Predicted=2017.000, Expected=2519.000\n",
            ">Predicted=2519.000, Expected=2671.000\n",
            ">Predicted=2671.000, Expected=4920.000\n",
            ">Predicted=4920.000, Expected=5318.000\n",
            ">Predicted=5318.000, Expected=3800.000\n",
            ">Predicted=3800.000, Expected=3432.000\n",
            ">Predicted=3432.000, Expected=2367.000\n",
            ">Predicted=2367.000, Expected=2086.000\n",
            ">Predicted=2086.000, Expected=1763.000\n",
            ">Predicted=1763.000, Expected=1333.000\n",
            ">Predicted=1333.000, Expected=1343.000\n",
            ">Predicted=1343.000, Expected=1387.000\n",
            ">Predicted=1387.000, Expected=1578.000\n",
            ">Predicted=1578.000, Expected=1583.000\n",
            ">Predicted=1583.000, Expected=1525.000\n",
            ">Predicted=1525.000, Expected=1328.000\n",
            ">Predicted=1328.000, Expected=1245.000\n",
            ">Predicted=1245.000, Expected=1371.000\n",
            ">Predicted=1371.000, Expected=1468.000\n",
            ">Predicted=1468.000, Expected=1278.000\n",
            ">Predicted=1278.000, Expected=1050.000\n",
            ">Predicted=1050.000, Expected=1096.000\n",
            ">Predicted=1096.000, Expected=1195.000\n",
            ">Predicted=1195.000, Expected=1018.000\n",
            ">Predicted=1018.000, Expected=1190.000\n",
            ">Predicted=1190.000, Expected=1152.000\n",
            ">Predicted=1152.000, Expected=2336.000\n",
            ">Predicted=2336.000, Expected=1755.000\n",
            ">Predicted=1755.000, Expected=2886.000\n",
            ">Predicted=2886.000, Expected=4110.000\n",
            ">Predicted=4110.000, Expected=4214.000\n",
            ">Predicted=4214.000, Expected=4095.000\n",
            ">Predicted=4095.000, Expected=2371.000\n",
            ">Predicted=2371.000, Expected=1481.000\n",
            ">Predicted=1481.000, Expected=1173.000\n",
            ">Predicted=1173.000, Expected=1179.000\n",
            ">Predicted=1179.000, Expected=1410.000\n",
            ">Predicted=1410.000, Expected=1929.000\n",
            ">Predicted=1929.000, Expected=1781.000\n",
            ">Predicted=1781.000, Expected=1533.000\n",
            ">Predicted=1533.000, Expected=1791.000\n",
            ">Predicted=1791.000, Expected=1817.000\n",
            ">Predicted=1817.000, Expected=1533.000\n",
            ">Predicted=1533.000, Expected=1263.000\n",
            ">Predicted=1263.000, Expected=959.000\n",
            ">Predicted=959.000, Expected=979.000\n",
            ">Predicted=979.000, Expected=1211.000\n",
            ">Predicted=1211.000, Expected=1263.000\n",
            ">Predicted=1263.000, Expected=1762.000\n",
            ">Predicted=1762.000, Expected=1941.000\n",
            ">Predicted=1941.000, Expected=2252.000\n",
            ">Predicted=2252.000, Expected=3675.000\n",
            ">Predicted=3675.000, Expected=3567.000\n",
            ">Predicted=3567.000, Expected=6415.000\n",
            ">Predicted=6415.000, Expected=9876.000\n",
            ">Predicted=9876.000, Expected=4936.000\n",
            ">Predicted=4936.000, Expected=2950.000\n",
            ">Predicted=2950.000, Expected=2100.000\n",
            ">Predicted=2100.000, Expected=1100.000\n",
            ">Predicted=1100.000, Expected=794.000\n",
            ">Predicted=794.000, Expected=961.000\n",
            ">Predicted=961.000, Expected=916.000\n",
            ">Predicted=916.000, Expected=1155.000\n",
            ">Predicted=1155.000, Expected=1950.000\n",
            ">Predicted=1950.000, Expected=3420.000\n",
            ">Predicted=3420.000, Expected=3200.000\n",
            ">Predicted=3200.000, Expected=3060.000\n",
            "RMSE: 924.774\n"
          ],
          "name": "stdout"
        }
      ]
    },
    {
      "cell_type": "markdown",
      "metadata": {
        "id": "H3z_HDnwuYg3"
      },
      "source": [
        "We got a RMSE value of 924.774 using the baseline model. So, our other models must be definitely better than this."
      ]
    },
    {
      "cell_type": "code",
      "metadata": {
        "colab": {
          "base_uri": "https://localhost:8080/"
        },
        "id": "zK_Diyca5ZoM",
        "outputId": "8cf520e8-c581-44e9-c2af-590be7bc86a9"
      },
      "source": [
        "series.describe()"
      ],
      "execution_count": null,
      "outputs": [
        {
          "output_type": "execute_result",
          "data": {
            "text/plain": [
              "count     204.000000\n",
              "mean     1621.764706\n",
              "std      1236.655108\n",
              "min       384.000000\n",
              "25%       878.750000\n",
              "50%      1263.000000\n",
              "75%      1953.500000\n",
              "max      9876.000000\n",
              "Name: 1, dtype: float64"
            ]
          },
          "metadata": {
            "tags": []
          },
          "execution_count": 129
        }
      ]
    },
    {
      "cell_type": "markdown",
      "metadata": {
        "id": "-JHBHpJOulBV"
      },
      "source": [
        "## Visualizing our data:"
      ]
    },
    {
      "cell_type": "code",
      "metadata": {
        "colab": {
          "base_uri": "https://localhost:8080/",
          "height": 514
        },
        "id": "xvCpc0G65bHY",
        "outputId": "08860fb7-023d-4513-e8b4-0810f833c993"
      },
      "source": [
        "plt.figure(figsize=(20,8))\n",
        "series.plot()"
      ],
      "execution_count": null,
      "outputs": [
        {
          "output_type": "execute_result",
          "data": {
            "text/plain": [
              "<matplotlib.axes._subplots.AxesSubplot at 0x7ff7ba78a390>"
            ]
          },
          "metadata": {
            "tags": []
          },
          "execution_count": 130
        },
        {
          "output_type": "display_data",
          "data": {
            "image/png": "[encoded data removed]",
            "text/plain": [
              "<Figure size 1440x576 with 1 Axes>"
            ]
          },
          "metadata": {
            "tags": [],
            "needs_background": "light"
          }
        }
      ]
    },
    {
      "cell_type": "code",
      "metadata": {
        "colab": {
          "base_uri": "https://localhost:8080/",
          "height": 501
        },
        "id": "eHt47N6L52qO",
        "outputId": "3a7903bd-8de0-4aa7-9c03-97d120577ab9"
      },
      "source": [
        "plt.figure(figsize=(20,8))\n",
        "plt.figure(1)\n",
        "plt.subplot(121)\n",
        "series.hist()\n",
        "plt.subplot(122)\n",
        "series.plot(kind='kde')"
      ],
      "execution_count": null,
      "outputs": [
        {
          "output_type": "execute_result",
          "data": {
            "text/plain": [
              "<matplotlib.axes._subplots.AxesSubplot at 0x7ff7ba78e550>"
            ]
          },
          "metadata": {
            "tags": []
          },
          "execution_count": 131
        },
        {
          "output_type": "display_data",
          "data": {
            "image/png": "[encoded data removed]",
            "text/plain": [
              "<Figure size 1440x576 with 2 Axes>"
            ]
          },
          "metadata": {
            "tags": [],
            "needs_background": "light"
          }
        }
      ]
    },
    {
      "cell_type": "code",
      "metadata": {
        "colab": {
          "base_uri": "https://localhost:8080/",
          "height": 501
        },
        "id": "OixsM7E-6emq",
        "outputId": "39721a74-4c57-4d0c-c9b5-4b709fcb9d80"
      },
      "source": [
        "groups = series['2004':'2020'].groupby(pd.Grouper(freq='A'))\n",
        "years = pd.DataFrame()\n",
        "for name, group in groups:\n",
        "  years[name.year] = group.values\n",
        "plt.figure(figsize=(20,8))\n",
        "years.boxplot()"
      ],
      "execution_count": null,
      "outputs": [
        {
          "output_type": "execute_result",
          "data": {
            "text/plain": [
              "<matplotlib.axes._subplots.AxesSubplot at 0x7ff7ba693310>"
            ]
          },
          "metadata": {
            "tags": []
          },
          "execution_count": 132
        },
        {
          "output_type": "display_data",
          "data": {
            "image/png": "[encoded data removed]",
            "text/plain": [
              "<Figure size 1440x576 with 1 Axes>"
            ]
          },
          "metadata": {
            "tags": [],
            "needs_background": "light"
          }
        }
      ]
    },
    {
      "cell_type": "markdown",
      "metadata": {
        "id": "zgN9OzzWuvM-"
      },
      "source": [
        "## ADF test:"
      ]
    },
    {
      "cell_type": "code",
      "metadata": {
        "colab": {
          "base_uri": "https://localhost:8080/"
        },
        "id": "UnbMta3y75pN",
        "outputId": "06ce2746-4a3b-4cc1-e9fd-517598a4d8c1"
      },
      "source": [
        "from statsmodels.tsa.stattools import adfuller\n",
        "\n",
        "def difference(dataset):\n",
        "  diff = list()\n",
        "  for i in range(1, len(dataset)):\n",
        "    value = dataset[i] - dataset[i - 1]\n",
        "    diff.append(value)\n",
        "  return pd.Series(diff)\n",
        "\n",
        "# difference data\n",
        "stationary = difference(X)\n",
        "stationary.index = series.index[1:]\n",
        "# check if stationary\n",
        "result = adfuller(stationary)\n",
        "print('ADF Statistic: %f' % result[0])\n",
        "print('p-value: %f' % result[1])\n",
        "print('Critical Values:')\n",
        "for key, value in result[4].items():\n",
        "  print('\\t%s: %.3f' % (key, value))\n",
        "# save\n",
        "stationary.to_csv('stationary.csv', header=False)"
      ],
      "execution_count": null,
      "outputs": [
        {
          "output_type": "stream",
          "text": [
            "ADF Statistic: -7.901252\n",
            "p-value: 0.000000\n",
            "Critical Values:\n",
            "\t1%: -3.465\n",
            "\t5%: -2.877\n",
            "\t10%: -2.575\n"
          ],
          "name": "stdout"
        }
      ]
    },
    {
      "cell_type": "markdown",
      "metadata": {
        "id": "LL_N4ef19uV7"
      },
      "source": [
        "ADF (Augmented Dicky Fuller) statistic is -7.9 which is less than 1% critical value. So, we can reject the null hypothesis and accept the alternate hypothesis (which is the data is stationary, by performing 1 differencing)"
      ]
    },
    {
      "cell_type": "markdown",
      "metadata": {
        "id": "Mb2vHszjvB-3"
      },
      "source": [
        "## Plotting Autocorrelation and Partial Autocorrelation plots:"
      ]
    },
    {
      "cell_type": "code",
      "metadata": {
        "colab": {
          "base_uri": "https://localhost:8080/",
          "height": 499
        },
        "id": "V-sX5onI80f8",
        "outputId": "8b44e63f-f849-4cf8-9152-f056f5b16bd9"
      },
      "source": [
        "from statsmodels.graphics.tsaplots import plot_acf\n",
        "from statsmodels.graphics.tsaplots import plot_pacf\n",
        "\n",
        "plt.figure(figsize=(20,8))\n",
        "plt.subplot(211)\n",
        "plot_acf(series, lags=50, ax=plt.gca())\n",
        "plt.subplot(212)\n",
        "plot_pacf(series, lags=50, ax=plt.gca())\n",
        "plt.show()"
      ],
      "execution_count": null,
      "outputs": [
        {
          "output_type": "display_data",
          "data": {
            "image/png": "[encoded data removed]",
            "text/plain": [
              "<Figure size 1440x576 with 2 Axes>"
            ]
          },
          "metadata": {
            "tags": [],
            "needs_background": "light"
          }
        }
      ]
    },
    {
      "cell_type": "markdown",
      "metadata": {
        "id": "q2GBj_USvdYS"
      },
      "source": [
        "## Fitting the ARIMA model using (p,d,q) = (3,1,1):"
      ]
    },
    {
      "cell_type": "code",
      "metadata": {
        "colab": {
          "base_uri": "https://localhost:8080/"
        },
        "id": "QoqsFHJD-3-3",
        "outputId": "bff13769-9045-4b12-a8f6-f0de273c7be6"
      },
      "source": [
        "from statsmodels.tsa.arima_model import ARIMA\n",
        "#prepare data\n",
        "X = series.values\n",
        "X = X.astype('float32')\n",
        "train_size = int(len(X) * 0.50)\n",
        "train, test = X[0:train_size], X[train_size:]\n",
        "# walk-forward validation\n",
        "history = [x for x in train]\n",
        "predictions = list()\n",
        "for i in range(len(test)): \n",
        "  # predict\n",
        "  model = ARIMA(history, order=(3,1,1))\n",
        "  model_fit = model.fit(disp=0)\n",
        "  yhat = model_fit.forecast()[0]\n",
        "  predictions.append(yhat)\n",
        "  # observation\n",
        "  obs = test[i]\n",
        "  history.append(obs)\n",
        "  print('>Predicted=%.3f, Expected=%.3f' % (yhat, obs))\n",
        "# report performance\n",
        "rmse = sqrt(mean_squared_error(test, predictions))\n",
        "print('RMSE: %.3f' % rmse)"
      ],
      "execution_count": null,
      "outputs": [
        {
          "output_type": "stream",
          "text": [
            ">Predicted=1158.246, Expected=1038.000\n",
            ">Predicted=1277.257, Expected=1143.000\n",
            ">Predicted=1323.930, Expected=1123.000\n",
            ">Predicted=1249.149, Expected=1269.000\n",
            ">Predicted=1414.393, Expected=1921.000\n",
            ">Predicted=2088.913, Expected=1910.000\n",
            ">Predicted=1818.837, Expected=1964.000\n",
            ">Predicted=1861.487, Expected=2033.000\n",
            ">Predicted=1926.890, Expected=1518.000\n",
            ">Predicted=1336.610, Expected=1410.000\n",
            ">Predicted=1410.541, Expected=1431.000\n",
            ">Predicted=1503.028, Expected=1850.000\n",
            ">Predicted=1962.219, Expected=2756.000\n",
            ">Predicted=2823.026, Expected=4530.000\n",
            ">Predicted=4693.627, Expected=5217.000\n",
            ">Predicted=4775.367, Expected=4676.000\n",
            ">Predicted=3668.178, Expected=4705.000\n",
            ">Predicted=4253.429, Expected=2609.000\n",
            ">Predicted=1388.078, Expected=1477.000\n",
            ">Predicted=767.527, Expected=1300.000\n",
            ">Predicted=1345.196, Expected=1288.000\n",
            ">Predicted=1521.360, Expected=1320.000\n",
            ">Predicted=1578.730, Expected=1640.000\n",
            ">Predicted=1949.191, Expected=2288.000\n",
            ">Predicted=2604.936, Expected=2981.000\n",
            ">Predicted=3164.817, Expected=2691.000\n",
            ">Predicted=2478.677, Expected=2404.000\n",
            ">Predicted=2178.378, Expected=2338.000\n",
            ">Predicted=2249.626, Expected=2420.000\n",
            ">Predicted=2410.231, Expected=2404.000\n",
            ">Predicted=2371.814, Expected=2142.000\n",
            ">Predicted=2061.326, Expected=2242.000\n",
            ">Predicted=2288.792, Expected=2113.000\n",
            ">Predicted=2127.096, Expected=1882.000\n",
            ">Predicted=1892.873, Expected=2017.000\n",
            ">Predicted=2158.721, Expected=2519.000\n",
            ">Predicted=2732.946, Expected=2671.000\n",
            ">Predicted=2707.893, Expected=4920.000\n",
            ">Predicted=5277.335, Expected=5318.000\n",
            ">Predicted=4977.533, Expected=3800.000\n",
            ">Predicted=2646.762, Expected=3432.000\n",
            ">Predicted=2901.476, Expected=2367.000\n",
            ">Predicted=1918.025, Expected=2086.000\n",
            ">Predicted=2022.617, Expected=1763.000\n",
            ">Predicted=1875.003, Expected=1333.000\n",
            ">Predicted=1519.425, Expected=1343.000\n",
            ">Predicted=1709.996, Expected=1387.000\n",
            ">Predicted=1797.891, Expected=1578.000\n",
            ">Predicted=1992.043, Expected=1583.000\n",
            ">Predicted=1914.405, Expected=1525.000\n",
            ">Predicted=1812.376, Expected=1328.000\n",
            ">Predicted=1589.284, Expected=1245.000\n",
            ">Predicted=1556.017, Expected=1371.000\n",
            ">Predicted=1744.376, Expected=1468.000\n",
            ">Predicted=1811.441, Expected=1278.000\n",
            ">Predicted=1525.181, Expected=1050.000\n",
            ">Predicted=1300.656, Expected=1096.000\n",
            ">Predicted=1445.413, Expected=1195.000\n",
            ">Predicted=1552.614, Expected=1018.000\n",
            ">Predicted=1281.511, Expected=1190.000\n",
            ">Predicted=1543.275, Expected=1152.000\n",
            ">Predicted=1431.191, Expected=2336.000\n",
            ">Predicted=2865.687, Expected=1755.000\n",
            ">Predicted=1779.215, Expected=2886.000\n",
            ">Predicted=3096.800, Expected=4110.000\n",
            ">Predicted=4311.869, Expected=4214.000\n",
            ">Predicted=3954.753, Expected=4095.000\n",
            ">Predicted=3665.818, Expected=2371.000\n",
            ">Predicted=1688.885, Expected=1481.000\n",
            ">Predicted=1180.349, Expected=1173.000\n",
            ">Predicted=1307.342, Expected=1179.000\n",
            ">Predicted=1513.842, Expected=1410.000\n",
            ">Predicted=1812.000, Expected=1929.000\n",
            ">Predicted=2339.547, Expected=1781.000\n",
            ">Predicted=1979.516, Expected=1533.000\n",
            ">Predicted=1667.330, Expected=1791.000\n",
            ">Predicted=2055.937, Expected=1817.000\n",
            ">Predicted=2034.399, Expected=1533.000\n",
            ">Predicted=1663.530, Expected=1263.000\n",
            ">Predicted=1428.451, Expected=959.000\n",
            ">Predicted=1178.537, Expected=979.000\n",
            ">Predicted=1317.033, Expected=1211.000\n",
            ">Predicted=1607.278, Expected=1263.000\n",
            ">Predicted=1583.608, Expected=1762.000\n",
            ">Predicted=2127.391, Expected=1941.000\n",
            ">Predicted=2173.678, Expected=2252.000\n",
            ">Predicted=2430.939, Expected=3675.000\n",
            ">Predicted=3990.024, Expected=3567.000\n",
            ">Predicted=3397.626, Expected=6415.000\n",
            ">Predicted=6464.825, Expected=9876.000\n",
            ">Predicted=11132.033, Expected=4936.000\n",
            ">Predicted=3473.611, Expected=2950.000\n",
            ">Predicted=4377.908, Expected=2100.000\n",
            ">Predicted=1963.980, Expected=1100.000\n",
            ">Predicted=1215.644, Expected=794.000\n",
            ">Predicted=1221.298, Expected=961.000\n",
            ">Predicted=1524.468, Expected=916.000\n",
            ">Predicted=1422.826, Expected=1155.000\n",
            ">Predicted=1669.750, Expected=1950.000\n",
            ">Predicted=2441.360, Expected=3420.000\n",
            ">Predicted=3762.544, Expected=3200.000\n",
            ">Predicted=3044.022, Expected=3060.000\n",
            "RMSE: 969.031\n"
          ],
          "name": "stdout"
        }
      ]
    },
    {
      "cell_type": "markdown",
      "metadata": {
        "id": "nKBMJsiPvobM"
      },
      "source": [
        "## Hyper parameter tuning to find the best (p,d,q) values:"
      ]
    },
    {
      "cell_type": "code",
      "metadata": {
        "colab": {
          "base_uri": "https://localhost:8080/"
        },
        "id": "V3LieMLoAwT9",
        "outputId": "ddb69ddb-11c7-4f1b-ccf6-6f8336f5a6ae"
      },
      "source": [
        "import warnings\n",
        "# evaluate an ARIMA model for a given order (p,d,q) and return RMSE\n",
        "def evaluate_arima_model(X, arima_order):\n",
        "  # prepare training dataset\n",
        "  X = X.astype('float32')\n",
        "  train_size = int(len(X) * 0.50)\n",
        "  train, test = X[0:train_size], X[train_size:]\n",
        "  history = [x for x in train]\n",
        "  # make predictions\n",
        "  predictions = list()\n",
        "  for t in range(len(test)):\n",
        "    model = ARIMA(history, order=arima_order)\n",
        "    model_fit = model.fit(disp=0)\n",
        "    yhat = model_fit.forecast()[0]\n",
        "    predictions.append(yhat)\n",
        "    history.append(test[t])\n",
        "  # calculate out of sample error\n",
        "  rmse = sqrt(mean_squared_error(test, predictions))\n",
        "  return rmse\n",
        "\n",
        "# evaluate combinations of p, d and q values for an ARIMA model\n",
        "def evaluate_models(dataset, p_values, d_values, q_values):\n",
        "  dataset = dataset.astype('float32')\n",
        "  best_score, best_cfg = float(\"inf\"), None\n",
        "  for p in p_values:\n",
        "    for d in d_values:\n",
        "      for q in q_values:\n",
        "        order = (p,d,q)\n",
        "        try:\n",
        "          rmse = evaluate_arima_model(dataset, order)\n",
        "          if rmse < best_score:\n",
        "            best_score, best_cfg = rmse, order\n",
        "          print('ARIMA%s RMSE=%.3f' % (order,rmse))\n",
        "        except:\n",
        "          continue\n",
        "  print('Best ARIMA%s RMSE=%.3f' % (best_cfg, best_score))\n",
        "\n",
        "# evaluate parameters\n",
        "p_values = range(0,5)\n",
        "d_values = range(0,2)\n",
        "q_values = range(0,3)\n",
        "warnings.filterwarnings(\"ignore\")\n",
        "evaluate_models(series.values, p_values, d_values, q_values)"
      ],
      "execution_count": null,
      "outputs": [
        {
          "output_type": "stream",
          "text": [
            "ARIMA(0, 0, 0) RMSE=1643.207\n",
            "ARIMA(0, 0, 1) RMSE=1051.565\n",
            "ARIMA(0, 1, 0) RMSE=927.432\n",
            "ARIMA(0, 1, 1) RMSE=921.728\n",
            "ARIMA(0, 1, 2) RMSE=983.365\n",
            "ARIMA(1, 0, 0) RMSE=927.817\n",
            "ARIMA(1, 0, 1) RMSE=917.461\n",
            "ARIMA(1, 0, 2) RMSE=955.266\n",
            "ARIMA(1, 1, 0) RMSE=958.505\n",
            "ARIMA(1, 1, 1) RMSE=979.788\n",
            "ARIMA(2, 0, 0) RMSE=923.024\n",
            "ARIMA(2, 0, 1) RMSE=958.208\n",
            "ARIMA(2, 1, 0) RMSE=969.962\n",
            "ARIMA(3, 0, 0) RMSE=937.448\n",
            "ARIMA(3, 1, 0) RMSE=990.181\n",
            "ARIMA(3, 1, 1) RMSE=969.031\n",
            "ARIMA(4, 0, 0) RMSE=938.818\n",
            "ARIMA(4, 0, 1) RMSE=913.528\n",
            "ARIMA(4, 1, 0) RMSE=956.340\n",
            "ARIMA(4, 1, 1) RMSE=936.871\n",
            "Best ARIMA(4, 0, 1) RMSE=913.528\n"
          ],
          "name": "stdout"
        }
      ]
    },
    {
      "cell_type": "markdown",
      "metadata": {
        "id": "b1Ken8nTPgZh"
      },
      "source": [
        "ARIMA(4,0,1) gives us the better RMSE value. So, let's take that for further steps."
      ]
    },
    {
      "cell_type": "markdown",
      "metadata": {
        "id": "EfUkoarZv-_M"
      },
      "source": [
        "## Train the ARIMA model using (4,0,1) and analysing the residual errors that we got:"
      ]
    },
    {
      "cell_type": "code",
      "metadata": {
        "id": "szzhkZ8dCC_D",
        "colab": {
          "base_uri": "https://localhost:8080/",
          "height": 499
        },
        "outputId": "cec45f9a-d928-4e1c-adb1-7926ae3fb7fe"
      },
      "source": [
        "import warnings\n",
        "warnings.filterwarnings(\"ignore\")\n",
        "# prepare data\n",
        "X = series.values\n",
        "X = X.astype('float32')\n",
        "train_size = int(len(X) * 0.50)\n",
        "train, test = X[0:train_size], X[train_size:]\n",
        "# walk-forward validation\n",
        "history = [x for x in train]\n",
        "predictions = list()\n",
        "for i in range(len(test)):\n",
        "  # predict\n",
        "  model = ARIMA(history, order=(4,0,1))\n",
        "  model_fit = model.fit(disp=0)\n",
        "  yhat = model_fit.forecast()[0]\n",
        "  predictions.append(yhat)\n",
        "  # observation\n",
        "  obs = test[i]\n",
        "  history.append(obs)\n",
        "# errors\n",
        "residuals = [test[i]-predictions[i] for i in range(len(test))]\n",
        "residuals = pd.DataFrame(residuals)\n",
        "\n",
        "plt.figure(figsize=(20,8))\n",
        "plt.subplot(121)\n",
        "residuals.hist(ax=plt.gca())\n",
        "plt.subplot(122)\n",
        "residuals.plot(kind='kde', ax=plt.gca())\n",
        "plt.show()"
      ],
      "execution_count": null,
      "outputs": [
        {
          "output_type": "display_data",
          "data": {
            "image/png": "[encoded data removed]",
            "text/plain": [
              "<Figure size 1440x576 with 2 Axes>"
            ]
          },
          "metadata": {
            "tags": [],
            "needs_background": "light"
          }
        }
      ]
    },
    {
      "cell_type": "markdown",
      "metadata": {
        "id": "3rF-9cHIwLsm"
      },
      "source": [
        "The mean of the residual errors stays at \"0\". So, there is no necessary in addition or subraction of bias."
      ]
    },
    {
      "cell_type": "markdown",
      "metadata": {
        "id": "nMjLTRnOwYOj"
      },
      "source": [
        "## ACF and PACF of residual errors:"
      ]
    },
    {
      "cell_type": "code",
      "metadata": {
        "colab": {
          "base_uri": "https://localhost:8080/",
          "height": 499
        },
        "id": "E_S524dXbHFU",
        "outputId": "702aadca-089c-43b9-f309-8093f70bd275"
      },
      "source": [
        "plt.figure(figsize=(20,8))\n",
        "plt.subplot(121)\n",
        "plot_acf(residuals, lags=25, ax=plt.gca())\n",
        "plt.subplot(122)\n",
        "plot_pacf(residuals, lags=25, ax=plt.gca())\n",
        "plt.show()"
      ],
      "execution_count": null,
      "outputs": [
        {
          "output_type": "display_data",
          "data": {
            "image/png": "[encoded data removed]",
            "text/plain": [
              "<Figure size 1440x576 with 2 Axes>"
            ]
          },
          "metadata": {
            "tags": [],
            "needs_background": "light"
          }
        }
      ]
    },
    {
      "cell_type": "markdown",
      "metadata": {
        "id": "gZgSZEffwd9G"
      },
      "source": [
        "## Transforming the dataset using boxcox and finding the best lambda value:"
      ]
    },
    {
      "cell_type": "code",
      "metadata": {
        "colab": {
          "base_uri": "https://localhost:8080/",
          "height": 532
        },
        "id": "YQfBi2uTbNmo",
        "outputId": "c5e1defa-872f-4649-ed09-56c8da38da5b"
      },
      "source": [
        "from scipy.stats import boxcox\n",
        "from statsmodels.graphics.gofplots import qqplot\n",
        "X = series.values\n",
        "transformed, lam = boxcox(X)\n",
        "print('Lambda: %f' % lam)\n",
        "plt.figure(1)\n",
        "plt.figure(figsize=(20,8))\n",
        "# line plot\n",
        "plt.subplot(311)\n",
        "plt.plot(transformed)\n",
        "# histogram\n",
        "plt.subplot(312)\n",
        "plt.hist(transformed)\n",
        "# q-q plot\n",
        "plt.subplot(313)\n",
        "qqplot(transformed, line='r', ax=plt.gca())\n",
        "plt.show()"
      ],
      "execution_count": null,
      "outputs": [
        {
          "output_type": "stream",
          "text": [
            "Lambda: -0.211850\n"
          ],
          "name": "stdout"
        },
        {
          "output_type": "display_data",
          "data": {
            "text/plain": [
              "<Figure size 432x288 with 0 Axes>"
            ]
          },
          "metadata": {
            "tags": []
          }
        },
        {
          "output_type": "display_data",
          "data": {
            "image/png": "[encoded data removed]",
            "text/plain": [
              "<Figure size 1440x576 with 3 Axes>"
            ]
          },
          "metadata": {
            "tags": [],
            "needs_background": "light"
          }
        }
      ]
    },
    {
      "cell_type": "markdown",
      "metadata": {
        "id": "viplmur8wnvt"
      },
      "source": [
        "Best lambda value = -0.211850"
      ]
    },
    {
      "cell_type": "markdown",
      "metadata": {
        "id": "FPdACrdlwtUm"
      },
      "source": [
        "## Creating a function to inverse the tranformation that was made:"
      ]
    },
    {
      "cell_type": "code",
      "metadata": {
        "id": "jpy0noPfcRuz"
      },
      "source": [
        "from math import log\n",
        "from math import exp\n",
        "# invert box-cox transform\n",
        "def boxcox_inverse(value, lam):\n",
        "  if lam == 0:\n",
        "    return exp(value)\n",
        "  return exp(log(lam * value + 1) / lam)"
      ],
      "execution_count": null,
      "outputs": []
    },
    {
      "cell_type": "markdown",
      "metadata": {
        "id": "uneLuoaRw1Lr"
      },
      "source": [
        "## Training the ARIMA model with the transformed data as an input:"
      ]
    },
    {
      "cell_type": "code",
      "metadata": {
        "colab": {
          "base_uri": "https://localhost:8080/"
        },
        "id": "7zdY5RhDeCgG",
        "outputId": "32f8c242-299b-414c-d247-7e72c06ff71c"
      },
      "source": [
        "X = X.astype('float32')\n",
        "train_size = int(len(X) * 0.50)\n",
        "train, test = X[0:train_size], X[train_size:]\n",
        "# walk-forward validation\n",
        "history = [x for x in train]\n",
        "predictions = list()\n",
        "for i in range(len(test)):\n",
        "  # transform\n",
        "  transformed, lam = boxcox(history)\n",
        "  if lam < -5:\n",
        "    transformed, lam = history, 1\n",
        "  # predict\n",
        "  model = ARIMA(transformed, order=(4,0,1))\n",
        "  model_fit = model.fit(disp=0)\n",
        "  yhat = model_fit.forecast()[0]\n",
        "  # invert transformed prediction\n",
        "  yhat = boxcox_inverse(yhat, lam)\n",
        "  predictions.append(yhat)\n",
        "  # observation\n",
        "  obs = test[i]\n",
        "  history.append(obs)\n",
        "  print('>Predicted=%.3f, Expected=%.3f' % (yhat, obs))\n",
        "# report performance\n",
        "rmse = sqrt(mean_squared_error(test, predictions))\n",
        "print('RMSE: %.3f' % rmse)"
      ],
      "execution_count": null,
      "outputs": [
        {
          "output_type": "stream",
          "text": [
            ">Predicted=955.786, Expected=1038.000\n",
            ">Predicted=1094.019, Expected=1143.000\n",
            ">Predicted=1180.369, Expected=1123.000\n",
            ">Predicted=1122.297, Expected=1269.000\n",
            ">Predicted=1359.757, Expected=1921.000\n",
            ">Predicted=2137.157, Expected=1910.000\n",
            ">Predicted=1812.540, Expected=1964.000\n",
            ">Predicted=2017.631, Expected=2033.000\n",
            ">Predicted=2113.386, Expected=1518.000\n",
            ">Predicted=1379.118, Expected=1410.000\n",
            ">Predicted=1498.922, Expected=1431.000\n",
            ">Predicted=1495.637, Expected=1850.000\n",
            ">Predicted=2017.157, Expected=2756.000\n",
            ">Predicted=3023.416, Expected=4530.000\n",
            ">Predicted=4830.463, Expected=5217.000\n",
            ">Predicted=4933.085, Expected=4676.000\n",
            ">Predicted=3778.148, Expected=4705.000\n",
            ">Predicted=4331.685, Expected=2609.000\n",
            ">Predicted=1241.595, Expected=1477.000\n",
            ">Predicted=850.541, Expected=1300.000\n",
            ">Predicted=926.995, Expected=1288.000\n",
            ">Predicted=1385.111, Expected=1320.000\n",
            ">Predicted=1193.582, Expected=1640.000\n",
            ">Predicted=1842.810, Expected=2288.000\n",
            ">Predicted=2291.230, Expected=2981.000\n",
            ">Predicted=3149.742, Expected=2691.000\n",
            ">Predicted=2175.074, Expected=2404.000\n",
            ">Predicted=2227.474, Expected=2338.000\n",
            ">Predicted=1958.854, Expected=2420.000\n",
            ">Predicted=2410.146, Expected=2404.000\n",
            ">Predicted=2069.039, Expected=2142.000\n",
            ">Predicted=2016.246, Expected=2242.000\n",
            ">Predicted=2013.972, Expected=2113.000\n",
            ">Predicted=2023.648, Expected=1882.000\n",
            ">Predicted=1587.680, Expected=2017.000\n",
            ">Predicted=2070.728, Expected=2519.000\n",
            ">Predicted=2465.367, Expected=2671.000\n",
            ">Predicted=2615.535, Expected=4920.000\n",
            ">Predicted=5507.966, Expected=5318.000\n",
            ">Predicted=4873.729, Expected=3800.000\n",
            ">Predicted=2854.580, Expected=3432.000\n",
            ">Predicted=2993.776, Expected=2367.000\n",
            ">Predicted=1674.082, Expected=2086.000\n",
            ">Predicted=1977.908, Expected=1763.000\n",
            ">Predicted=1402.581, Expected=1333.000\n",
            ">Predicted=1313.810, Expected=1343.000\n",
            ">Predicted=1219.164, Expected=1387.000\n",
            ">Predicted=1525.375, Expected=1578.000\n",
            ">Predicted=1533.600, Expected=1583.000\n",
            ">Predicted=1654.895, Expected=1525.000\n",
            ">Predicted=1402.506, Expected=1328.000\n",
            ">Predicted=1335.875, Expected=1245.000\n",
            ">Predicted=1167.939, Expected=1371.000\n",
            ">Predicted=1504.573, Expected=1468.000\n",
            ">Predicted=1426.597, Expected=1278.000\n",
            ">Predicted=1288.096, Expected=1050.000\n",
            ">Predicted=949.848, Expected=1096.000\n",
            ">Predicted=1234.358, Expected=1195.000\n",
            ">Predicted=1195.844, Expected=1018.000\n",
            ">Predicted=1068.154, Expected=1190.000\n",
            ">Predicted=1259.921, Expected=1152.000\n",
            ">Predicted=1188.485, Expected=2336.000\n",
            ">Predicted=2758.610, Expected=1755.000\n",
            ">Predicted=1319.454, Expected=2886.000\n",
            ">Predicted=3276.371, Expected=4110.000\n",
            ">Predicted=3832.273, Expected=4214.000\n",
            ">Predicted=4255.919, Expected=4095.000\n",
            ">Predicted=3363.621, Expected=2371.000\n",
            ">Predicted=1771.809, Expected=1481.000\n",
            ">Predicted=816.299, Expected=1173.000\n",
            ">Predicted=1156.879, Expected=1179.000\n",
            ">Predicted=1076.071, Expected=1410.000\n",
            ">Predicted=1648.805, Expected=1929.000\n",
            ">Predicted=1954.792, Expected=1781.000\n",
            ">Predicted=1791.887, Expected=1533.000\n",
            ">Predicted=1352.313, Expected=1791.000\n",
            ">Predicted=1915.207, Expected=1817.000\n",
            ">Predicted=1671.674, Expected=1533.000\n",
            ">Predicted=1524.457, Expected=1263.000\n",
            ">Predicted=1076.022, Expected=959.000\n",
            ">Predicted=998.236, Expected=979.000\n",
            ">Predicted=976.839, Expected=1211.000\n",
            ">Predicted=1424.928, Expected=1263.000\n",
            ">Predicted=1247.891, Expected=1762.000\n",
            ">Predicted=2036.431, Expected=1941.000\n",
            ">Predicted=1823.795, Expected=2252.000\n",
            ">Predicted=2416.590, Expected=3675.000\n",
            ">Predicted=3792.294, Expected=3567.000\n",
            ">Predicted=3282.426, Expected=6415.000\n",
            ">Predicted=6878.523, Expected=9876.000\n",
            ">Predicted=10631.380, Expected=4936.000\n",
            ">Predicted=2696.694, Expected=2950.000\n",
            ">Predicted=2846.064, Expected=2100.000\n",
            ">Predicted=339.767, Expected=1100.000\n",
            ">Predicted=1655.861, Expected=794.000\n",
            ">Predicted=151.661, Expected=961.000\n",
            ">Predicted=1651.101, Expected=916.000\n",
            ">Predicted=586.707, Expected=1155.000\n",
            ">Predicted=1736.470, Expected=1950.000\n",
            ">Predicted=1768.049, Expected=3420.000\n",
            ">Predicted=3618.018, Expected=3200.000\n",
            ">Predicted=2746.338, Expected=3060.000\n",
            "RMSE: 913.386\n"
          ],
          "name": "stdout"
        }
      ]
    },
    {
      "cell_type": "markdown",
      "metadata": {
        "id": "icoQ4MX5w9W6"
      },
      "source": [
        "## Saving the model and lambda value for further use:"
      ]
    },
    {
      "cell_type": "code",
      "metadata": {
        "id": "FZprBx_GexVt"
      },
      "source": [
        "X = series.values\n",
        "X = X.astype('float32')\n",
        "for i in range(len(X)):\n",
        "  # transform\n",
        "  transformed, lam = boxcox(X)\n",
        "  if lam < -5:\n",
        "    transformed, lam = X, 1\n",
        "# fit model\n",
        "model = ARIMA(transformed, order=(4,0,1))\n",
        "model_fit = model.fit(disp=0)\n",
        "# save model\n",
        "model_fit.save('model.pkl')\n",
        "np.save('model_lambda.npy', [lam])"
      ],
      "execution_count": null,
      "outputs": []
    },
    {
      "cell_type": "markdown",
      "metadata": {
        "id": "R86qAqz6xEsQ"
      },
      "source": [
        "## Loading the saved model and forecasted the next output:"
      ]
    },
    {
      "cell_type": "code",
      "metadata": {
        "colab": {
          "base_uri": "https://localhost:8080/"
        },
        "id": "eXoj_QLlgYXV",
        "outputId": "9403578b-ffcb-4f86-92bb-9c3f8c274c2d"
      },
      "source": [
        "from statsmodels.tsa.arima_model import ARIMAResults\n",
        "\n",
        "model_fit = ARIMAResults.load('model.pkl')\n",
        "lam = np.load('model_lambda.npy')\n",
        "yhat = model_fit.forecast()[0]\n",
        "yhat = boxcox_inverse(yhat, lam)\n",
        "print('Predicted: %.3f' % yhat)"
      ],
      "execution_count": null,
      "outputs": [
        {
          "output_type": "stream",
          "text": [
            "Predicted: 2957.058\n"
          ],
          "name": "stdout"
        }
      ]
    },
    {
      "cell_type": "markdown",
      "metadata": {
        "id": "C5FIQfguxLdk"
      },
      "source": [
        "## Finally, checking the performance of the model by predicting the outcomes of validation data that was set aside initially:"
      ]
    },
    {
      "cell_type": "code",
      "metadata": {
        "colab": {
          "base_uri": "https://localhost:8080/"
        },
        "id": "VuYO-Z0cj8QT",
        "outputId": "36d3ae0a-1bce-4013-f782-04efe0e0b397"
      },
      "source": [
        "dataset = pd.read_csv('onion_dataset_final.csv', header=None, index_col=0, parse_dates=True, squeeze=True)\n",
        "X = dataset.values.astype('float32')\n",
        "history = [x for x in X]\n",
        "validation = pd.read_csv('onion_validation.csv', header=None, index_col=0, parse_dates=True,\n",
        "squeeze=True)\n",
        "y = validation.values.astype('float32')\n",
        "# load model\n",
        "model_fit = ARIMAResults.load('model.pkl')\n",
        "lam = np.load('model_lambda.npy')\n",
        "# make first prediction\n",
        "predictions = list()\n",
        "yhat = model_fit.forecast()[0]\n",
        "yhat = boxcox_inverse(yhat, lam)\n",
        "predictions.append(yhat)\n",
        "history.append(y[0])\n",
        "print('>Predicted=%.3f, Expected=%.3f' % (yhat, y[0]))\n",
        "# rolling forecasts\n",
        "for i in range(1, len(y)):\n",
        "  # transform\n",
        "  transformed, lam = boxcox(history)\n",
        "  if lam < -5:\n",
        "    transformed, lam = history, 1\n",
        "  # predict\n",
        "  model = ARIMA(transformed, order=(4,0,1))\n",
        "  model_fit = model.fit(disp=0)\n",
        "  yhat = model_fit.forecast()[0]\n",
        "  # invert transformed prediction\n",
        "  yhat = boxcox_inverse(yhat, lam)\n",
        "  predictions.append(yhat)\n",
        "  # observation\n",
        "  obs = y[i]\n",
        "  history.append(obs)\n",
        "  print('>Predicted=%.3f, Expected=%.3f' % (yhat, obs))\n",
        "# report performance\n",
        "rmse = sqrt(mean_squared_error(y, predictions))\n",
        "print('RMSE: %.3f' % rmse)"
      ],
      "execution_count": null,
      "outputs": [
        {
          "output_type": "stream",
          "text": [
            ">Predicted=2957.058, Expected=2976.000\n",
            ">Predicted=2432.245, Expected=4211.000\n",
            ">Predicted=4192.713, Expected=3300.000\n",
            ">Predicted=2467.433, Expected=1100.000\n",
            ">Predicted=802.992, Expected=1150.000\n",
            "RMSE: 1091.014\n"
          ],
          "name": "stdout"
        }
      ]
    },
    {
      "cell_type": "markdown",
      "metadata": {
        "id": "OER8VzyTxZSs"
      },
      "source": [
        "RMSE value for the validation data is 1091.014"
      ]
    },
    {
      "cell_type": "markdown",
      "metadata": {
        "id": "gDrU3TD4xekz"
      },
      "source": [
        "## Expected vs Predicted:"
      ]
    },
    {
      "cell_type": "code",
      "metadata": {
        "id": "RbIMdK8IqvdE",
        "colab": {
          "base_uri": "https://localhost:8080/",
          "height": 483
        },
        "outputId": "c5f179b0-4850-4d13-8b3b-07d107d39e13"
      },
      "source": [
        "plt.figure(figsize=(20,8))\n",
        "plt.plot(y)\n",
        "plt.plot(predictions, color='red')\n",
        "plt.legend(['Expected','Predicted'])\n",
        "plt.show()"
      ],
      "execution_count": null,
      "outputs": [
        {
          "output_type": "display_data",
          "data": {
            "image/png": "[encoded data removed]",
            "text/plain": [
              "<Figure size 1440x576 with 1 Axes>"
            ]
          },
          "metadata": {
            "tags": [],
            "needs_background": "light"
          }
        }
      ]
    },
    {
      "cell_type": "code",
      "metadata": {
        "id": "pqU2FoWNsuH-"
      },
      "source": [
        ""
      ],
      "execution_count": null,
      "outputs": []
    }
  ]
}