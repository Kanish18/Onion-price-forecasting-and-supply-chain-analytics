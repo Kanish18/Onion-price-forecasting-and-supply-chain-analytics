{
 "cells": [
  {
   "cell_type": "markdown",
   "metadata": {},
   "source": [
    "\"Data is messy\"\n",
    "We will be performing the following operation on our Onion price to refine it.\n",
    "\n",
    "1. Remove e.g. remove redundant data from the data frame\n",
    "2. Parse e.g. extract date from year and month column"
   ]
  },
  {
   "cell_type": "markdown",
   "metadata": {},
   "source": [
    "### Importing essential libraries"
   ]
  },
  {
   "cell_type": "code",
   "execution_count": 20,
   "metadata": {},
   "outputs": [],
   "source": [
    "import numpy as np\n",
    "import pandas as pd"
   ]
  },
  {
   "cell_type": "markdown",
   "metadata": {},
   "source": [
    "### Reading the DataFrame"
   ]
  },
  {
   "cell_type": "code",
   "execution_count": 21,
   "metadata": {},
   "outputs": [],
   "source": [
    "df = pd.read_csv('MonthWiseMarketArrivals_Chennai.csv')"
   ]
  },
  {
   "cell_type": "code",
   "execution_count": 22,
   "metadata": {},
   "outputs": [
    {
     "data": {
      "text/html": [
       "<div>\n",
       "<style scoped>\n",
       "    .dataframe tbody tr th:only-of-type {\n",
       "        vertical-align: middle;\n",
       "    }\n",
       "\n",
       "    .dataframe tbody tr th {\n",
       "        vertical-align: top;\n",
       "    }\n",
       "\n",
       "    .dataframe thead th {\n",
       "        text-align: right;\n",
       "    }\n",
       "</style>\n",
       "<table border=\"1\" class=\"dataframe\">\n",
       "  <thead>\n",
       "    <tr style=\"text-align: right;\">\n",
       "      <th></th>\n",
       "      <th>market</th>\n",
       "      <th>month</th>\n",
       "      <th>year</th>\n",
       "      <th>quantity</th>\n",
       "      <th>priceMin</th>\n",
       "      <th>priceMax</th>\n",
       "      <th>priceMod</th>\n",
       "    </tr>\n",
       "  </thead>\n",
       "  <tbody>\n",
       "    <tr>\n",
       "      <th>0</th>\n",
       "      <td>CHENNAI</td>\n",
       "      <td>January</td>\n",
       "      <td>2004</td>\n",
       "      <td>103400</td>\n",
       "      <td>798</td>\n",
       "      <td>1019</td>\n",
       "      <td>910</td>\n",
       "    </tr>\n",
       "    <tr>\n",
       "      <th>1</th>\n",
       "      <td>CHENNAI</td>\n",
       "      <td>January</td>\n",
       "      <td>2005</td>\n",
       "      <td>120500</td>\n",
       "      <td>430</td>\n",
       "      <td>638</td>\n",
       "      <td>533</td>\n",
       "    </tr>\n",
       "    <tr>\n",
       "      <th>2</th>\n",
       "      <td>CHENNAI</td>\n",
       "      <td>January</td>\n",
       "      <td>2006</td>\n",
       "      <td>111900</td>\n",
       "      <td>428</td>\n",
       "      <td>621</td>\n",
       "      <td>524</td>\n",
       "    </tr>\n",
       "    <tr>\n",
       "      <th>3</th>\n",
       "      <td>CHENNAI</td>\n",
       "      <td>January</td>\n",
       "      <td>2007</td>\n",
       "      <td>84800</td>\n",
       "      <td>900</td>\n",
       "      <td>1370</td>\n",
       "      <td>1129</td>\n",
       "    </tr>\n",
       "    <tr>\n",
       "      <th>4</th>\n",
       "      <td>CHENNAI</td>\n",
       "      <td>January</td>\n",
       "      <td>2008</td>\n",
       "      <td>127400</td>\n",
       "      <td>588</td>\n",
       "      <td>1000</td>\n",
       "      <td>797</td>\n",
       "    </tr>\n",
       "    <tr>\n",
       "      <th>5</th>\n",
       "      <td>CHENNAI</td>\n",
       "      <td>January</td>\n",
       "      <td>2009</td>\n",
       "      <td>111320</td>\n",
       "      <td>1428</td>\n",
       "      <td>2028</td>\n",
       "      <td>1762</td>\n",
       "    </tr>\n",
       "    <tr>\n",
       "      <th>6</th>\n",
       "      <td>CHENNAI</td>\n",
       "      <td>January</td>\n",
       "      <td>2010</td>\n",
       "      <td>110000</td>\n",
       "      <td>1639</td>\n",
       "      <td>2259</td>\n",
       "      <td>1980</td>\n",
       "    </tr>\n",
       "    <tr>\n",
       "      <th>7</th>\n",
       "      <td>CHENNAI</td>\n",
       "      <td>January</td>\n",
       "      <td>2011</td>\n",
       "      <td>102000</td>\n",
       "      <td>3583</td>\n",
       "      <td>4583</td>\n",
       "      <td>4083</td>\n",
       "    </tr>\n",
       "    <tr>\n",
       "      <th>8</th>\n",
       "      <td>CHENNAI</td>\n",
       "      <td>January</td>\n",
       "      <td>2012</td>\n",
       "      <td>126000</td>\n",
       "      <td>771</td>\n",
       "      <td>1013</td>\n",
       "      <td>892</td>\n",
       "    </tr>\n",
       "    <tr>\n",
       "      <th>9</th>\n",
       "      <td>CHENNAI</td>\n",
       "      <td>January</td>\n",
       "      <td>2013</td>\n",
       "      <td>116700</td>\n",
       "      <td>1786</td>\n",
       "      <td>2132</td>\n",
       "      <td>1964</td>\n",
       "    </tr>\n",
       "  </tbody>\n",
       "</table>\n",
       "</div>"
      ],
      "text/plain": [
       "    market    month  year  quantity priceMin priceMax priceMod\n",
       "0  CHENNAI  January  2004    103400      798     1019      910\n",
       "1  CHENNAI  January  2005    120500      430      638      533\n",
       "2  CHENNAI  January  2006    111900      428      621      524\n",
       "3  CHENNAI  January  2007     84800      900     1370     1129\n",
       "4  CHENNAI  January  2008    127400      588     1000      797\n",
       "5  CHENNAI  January  2009    111320     1428     2028     1762\n",
       "6  CHENNAI  January  2010    110000     1639     2259     1980\n",
       "7  CHENNAI  January  2011    102000     3583     4583     4083\n",
       "8  CHENNAI  January  2012    126000      771     1013      892\n",
       "9  CHENNAI  January  2013    116700     1786     2132     1964"
      ]
     },
     "execution_count": 22,
     "metadata": {},
     "output_type": "execute_result"
    }
   ],
   "source": [
    "df.head(10)"
   ]
  },
  {
   "cell_type": "code",
   "execution_count": 23,
   "metadata": {},
   "outputs": [
    {
     "data": {
      "text/plain": [
       "(196, 7)"
      ]
     },
     "execution_count": 23,
     "metadata": {},
     "output_type": "execute_result"
    }
   ],
   "source": [
    "df.shape"
   ]
  },
  {
   "cell_type": "markdown",
   "metadata": {},
   "source": [
    "### Checking for null values and removing it"
   ]
  },
  {
   "cell_type": "code",
   "execution_count": 24,
   "metadata": {},
   "outputs": [
    {
     "data": {
      "text/plain": [
       "market      1\n",
       "month       1\n",
       "year        0\n",
       "quantity    0\n",
       "priceMin    0\n",
       "priceMax    0\n",
       "priceMod    0\n",
       "dtype: int64"
      ]
     },
     "execution_count": 24,
     "metadata": {},
     "output_type": "execute_result"
    }
   ],
   "source": [
    "df.isna().sum()"
   ]
  },
  {
   "cell_type": "code",
   "execution_count": 25,
   "metadata": {},
   "outputs": [],
   "source": [
    "df.dropna(inplace = True)"
   ]
  },
  {
   "cell_type": "code",
   "execution_count": 26,
   "metadata": {},
   "outputs": [
    {
     "data": {
      "text/plain": [
       "market      object\n",
       "month       object\n",
       "year        object\n",
       "quantity     int64\n",
       "priceMin    object\n",
       "priceMax    object\n",
       "priceMod    object\n",
       "dtype: object"
      ]
     },
     "execution_count": 26,
     "metadata": {},
     "output_type": "execute_result"
    }
   ],
   "source": [
    "df.dtypes"
   ]
  },
  {
   "cell_type": "markdown",
   "metadata": {},
   "source": [
    "### Changing the datatypes for integer values"
   ]
  },
  {
   "cell_type": "code",
   "execution_count": 27,
   "metadata": {},
   "outputs": [],
   "source": [
    "df.iloc[:,2:7] = df.iloc[:,2:7].astype(int)"
   ]
  },
  {
   "cell_type": "code",
   "execution_count": 28,
   "metadata": {},
   "outputs": [
    {
     "data": {
      "text/plain": [
       "market      object\n",
       "month       object\n",
       "year         int32\n",
       "quantity     int32\n",
       "priceMin     int32\n",
       "priceMax     int32\n",
       "priceMod     int32\n",
       "dtype: object"
      ]
     },
     "execution_count": 28,
     "metadata": {},
     "output_type": "execute_result"
    }
   ],
   "source": [
    "df.dtypes"
   ]
  },
  {
   "cell_type": "code",
   "execution_count": 29,
   "metadata": {},
   "outputs": [
    {
     "data": {
      "text/html": [
       "<div>\n",
       "<style scoped>\n",
       "    .dataframe tbody tr th:only-of-type {\n",
       "        vertical-align: middle;\n",
       "    }\n",
       "\n",
       "    .dataframe tbody tr th {\n",
       "        vertical-align: top;\n",
       "    }\n",
       "\n",
       "    .dataframe thead th {\n",
       "        text-align: right;\n",
       "    }\n",
       "</style>\n",
       "<table border=\"1\" class=\"dataframe\">\n",
       "  <thead>\n",
       "    <tr style=\"text-align: right;\">\n",
       "      <th></th>\n",
       "      <th>year</th>\n",
       "      <th>quantity</th>\n",
       "      <th>priceMin</th>\n",
       "      <th>priceMax</th>\n",
       "      <th>priceMod</th>\n",
       "    </tr>\n",
       "  </thead>\n",
       "  <tbody>\n",
       "    <tr>\n",
       "      <th>count</th>\n",
       "      <td>195.000000</td>\n",
       "      <td>195.000000</td>\n",
       "      <td>195.000000</td>\n",
       "      <td>195.000000</td>\n",
       "      <td>195.000000</td>\n",
       "    </tr>\n",
       "    <tr>\n",
       "      <th>mean</th>\n",
       "      <td>2011.630769</td>\n",
       "      <td>111527.435897</td>\n",
       "      <td>1435.497436</td>\n",
       "      <td>1778.266667</td>\n",
       "      <td>1611.712821</td>\n",
       "    </tr>\n",
       "    <tr>\n",
       "      <th>std</th>\n",
       "      <td>4.704360</td>\n",
       "      <td>14863.354493</td>\n",
       "      <td>1165.613388</td>\n",
       "      <td>1328.164341</td>\n",
       "      <td>1244.411557</td>\n",
       "    </tr>\n",
       "    <tr>\n",
       "      <th>min</th>\n",
       "      <td>2004.000000</td>\n",
       "      <td>63900.000000</td>\n",
       "      <td>304.000000</td>\n",
       "      <td>456.000000</td>\n",
       "      <td>384.000000</td>\n",
       "    </tr>\n",
       "    <tr>\n",
       "      <th>25%</th>\n",
       "      <td>2008.000000</td>\n",
       "      <td>103300.000000</td>\n",
       "      <td>741.000000</td>\n",
       "      <td>1000.000000</td>\n",
       "      <td>874.000000</td>\n",
       "    </tr>\n",
       "    <tr>\n",
       "      <th>50%</th>\n",
       "      <td>2012.000000</td>\n",
       "      <td>111200.000000</td>\n",
       "      <td>1092.000000</td>\n",
       "      <td>1457.000000</td>\n",
       "      <td>1263.000000</td>\n",
       "    </tr>\n",
       "    <tr>\n",
       "      <th>75%</th>\n",
       "      <td>2016.000000</td>\n",
       "      <td>121950.000000</td>\n",
       "      <td>1764.500000</td>\n",
       "      <td>2073.000000</td>\n",
       "      <td>1935.000000</td>\n",
       "    </tr>\n",
       "    <tr>\n",
       "      <th>max</th>\n",
       "      <td>2020.000000</td>\n",
       "      <td>150400.000000</td>\n",
       "      <td>8696.000000</td>\n",
       "      <td>11130.000000</td>\n",
       "      <td>9876.000000</td>\n",
       "    </tr>\n",
       "  </tbody>\n",
       "</table>\n",
       "</div>"
      ],
      "text/plain": [
       "              year       quantity     priceMin      priceMax     priceMod\n",
       "count   195.000000     195.000000   195.000000    195.000000   195.000000\n",
       "mean   2011.630769  111527.435897  1435.497436   1778.266667  1611.712821\n",
       "std       4.704360   14863.354493  1165.613388   1328.164341  1244.411557\n",
       "min    2004.000000   63900.000000   304.000000    456.000000   384.000000\n",
       "25%    2008.000000  103300.000000   741.000000   1000.000000   874.000000\n",
       "50%    2012.000000  111200.000000  1092.000000   1457.000000  1263.000000\n",
       "75%    2016.000000  121950.000000  1764.500000   2073.000000  1935.000000\n",
       "max    2020.000000  150400.000000  8696.000000  11130.000000  9876.000000"
      ]
     },
     "execution_count": 29,
     "metadata": {},
     "output_type": "execute_result"
    }
   ],
   "source": [
    "df.describe()"
   ]
  },
  {
   "cell_type": "markdown",
   "metadata": {},
   "source": [
    "### Finding the dates"
   ]
  },
  {
   "cell_type": "code",
   "execution_count": 30,
   "metadata": {},
   "outputs": [
    {
     "data": {
      "text/html": [
       "<div>\n",
       "<style scoped>\n",
       "    .dataframe tbody tr th:only-of-type {\n",
       "        vertical-align: middle;\n",
       "    }\n",
       "\n",
       "    .dataframe tbody tr th {\n",
       "        vertical-align: top;\n",
       "    }\n",
       "\n",
       "    .dataframe thead th {\n",
       "        text-align: right;\n",
       "    }\n",
       "</style>\n",
       "<table border=\"1\" class=\"dataframe\">\n",
       "  <thead>\n",
       "    <tr style=\"text-align: right;\">\n",
       "      <th></th>\n",
       "      <th>market</th>\n",
       "      <th>month</th>\n",
       "      <th>year</th>\n",
       "      <th>quantity</th>\n",
       "      <th>priceMin</th>\n",
       "      <th>priceMax</th>\n",
       "      <th>priceMod</th>\n",
       "      <th>date</th>\n",
       "    </tr>\n",
       "  </thead>\n",
       "  <tbody>\n",
       "    <tr>\n",
       "      <th>0</th>\n",
       "      <td>CHENNAI</td>\n",
       "      <td>January</td>\n",
       "      <td>2004</td>\n",
       "      <td>103400</td>\n",
       "      <td>798</td>\n",
       "      <td>1019</td>\n",
       "      <td>910</td>\n",
       "      <td>January-2004</td>\n",
       "    </tr>\n",
       "    <tr>\n",
       "      <th>1</th>\n",
       "      <td>CHENNAI</td>\n",
       "      <td>January</td>\n",
       "      <td>2005</td>\n",
       "      <td>120500</td>\n",
       "      <td>430</td>\n",
       "      <td>638</td>\n",
       "      <td>533</td>\n",
       "      <td>January-2005</td>\n",
       "    </tr>\n",
       "    <tr>\n",
       "      <th>2</th>\n",
       "      <td>CHENNAI</td>\n",
       "      <td>January</td>\n",
       "      <td>2006</td>\n",
       "      <td>111900</td>\n",
       "      <td>428</td>\n",
       "      <td>621</td>\n",
       "      <td>524</td>\n",
       "      <td>January-2006</td>\n",
       "    </tr>\n",
       "    <tr>\n",
       "      <th>3</th>\n",
       "      <td>CHENNAI</td>\n",
       "      <td>January</td>\n",
       "      <td>2007</td>\n",
       "      <td>84800</td>\n",
       "      <td>900</td>\n",
       "      <td>1370</td>\n",
       "      <td>1129</td>\n",
       "      <td>January-2007</td>\n",
       "    </tr>\n",
       "    <tr>\n",
       "      <th>4</th>\n",
       "      <td>CHENNAI</td>\n",
       "      <td>January</td>\n",
       "      <td>2008</td>\n",
       "      <td>127400</td>\n",
       "      <td>588</td>\n",
       "      <td>1000</td>\n",
       "      <td>797</td>\n",
       "      <td>January-2008</td>\n",
       "    </tr>\n",
       "  </tbody>\n",
       "</table>\n",
       "</div>"
      ],
      "text/plain": [
       "    market    month  year  quantity  priceMin  priceMax  priceMod  \\\n",
       "0  CHENNAI  January  2004    103400       798      1019       910   \n",
       "1  CHENNAI  January  2005    120500       430       638       533   \n",
       "2  CHENNAI  January  2006    111900       428       621       524   \n",
       "3  CHENNAI  January  2007     84800       900      1370      1129   \n",
       "4  CHENNAI  January  2008    127400       588      1000       797   \n",
       "\n",
       "           date  \n",
       "0  January-2004  \n",
       "1  January-2005  \n",
       "2  January-2006  \n",
       "3  January-2007  \n",
       "4  January-2008  "
      ]
     },
     "execution_count": 30,
     "metadata": {},
     "output_type": "execute_result"
    }
   ],
   "source": [
    "df[\"date\"] = df[\"month\"] + \"-\" + df[\"year\"].map(str)\n",
    "df.head()"
   ]
  },
  {
   "cell_type": "code",
   "execution_count": 31,
   "metadata": {},
   "outputs": [
    {
     "data": {
      "text/plain": [
       "Int64Index([  0,   1,   2,   3,   4,   5,   6,   7,   8,   9,\n",
       "            ...\n",
       "            185, 186, 187, 188, 189, 190, 191, 192, 193, 194],\n",
       "           dtype='int64', length=195)"
      ]
     },
     "execution_count": 31,
     "metadata": {},
     "output_type": "execute_result"
    }
   ],
   "source": [
    "index = pd.to_datetime(df.date)\n",
    "df.date = pd.DatetimeIndex(df.date)\n",
    "df.index"
   ]
  },
  {
   "cell_type": "code",
   "execution_count": 32,
   "metadata": {},
   "outputs": [
    {
     "data": {
      "text/html": [
       "<div>\n",
       "<style scoped>\n",
       "    .dataframe tbody tr th:only-of-type {\n",
       "        vertical-align: middle;\n",
       "    }\n",
       "\n",
       "    .dataframe tbody tr th {\n",
       "        vertical-align: top;\n",
       "    }\n",
       "\n",
       "    .dataframe thead th {\n",
       "        text-align: right;\n",
       "    }\n",
       "</style>\n",
       "<table border=\"1\" class=\"dataframe\">\n",
       "  <thead>\n",
       "    <tr style=\"text-align: right;\">\n",
       "      <th></th>\n",
       "      <th>market</th>\n",
       "      <th>month</th>\n",
       "      <th>year</th>\n",
       "      <th>quantity</th>\n",
       "      <th>priceMin</th>\n",
       "      <th>priceMax</th>\n",
       "      <th>priceMod</th>\n",
       "      <th>date</th>\n",
       "    </tr>\n",
       "  </thead>\n",
       "  <tbody>\n",
       "    <tr>\n",
       "      <th>0</th>\n",
       "      <td>CHENNAI</td>\n",
       "      <td>January</td>\n",
       "      <td>2004</td>\n",
       "      <td>103400</td>\n",
       "      <td>798</td>\n",
       "      <td>1019</td>\n",
       "      <td>910</td>\n",
       "      <td>2004-01-01</td>\n",
       "    </tr>\n",
       "    <tr>\n",
       "      <th>1</th>\n",
       "      <td>CHENNAI</td>\n",
       "      <td>January</td>\n",
       "      <td>2005</td>\n",
       "      <td>120500</td>\n",
       "      <td>430</td>\n",
       "      <td>638</td>\n",
       "      <td>533</td>\n",
       "      <td>2005-01-01</td>\n",
       "    </tr>\n",
       "    <tr>\n",
       "      <th>2</th>\n",
       "      <td>CHENNAI</td>\n",
       "      <td>January</td>\n",
       "      <td>2006</td>\n",
       "      <td>111900</td>\n",
       "      <td>428</td>\n",
       "      <td>621</td>\n",
       "      <td>524</td>\n",
       "      <td>2006-01-01</td>\n",
       "    </tr>\n",
       "    <tr>\n",
       "      <th>3</th>\n",
       "      <td>CHENNAI</td>\n",
       "      <td>January</td>\n",
       "      <td>2007</td>\n",
       "      <td>84800</td>\n",
       "      <td>900</td>\n",
       "      <td>1370</td>\n",
       "      <td>1129</td>\n",
       "      <td>2007-01-01</td>\n",
       "    </tr>\n",
       "    <tr>\n",
       "      <th>4</th>\n",
       "      <td>CHENNAI</td>\n",
       "      <td>January</td>\n",
       "      <td>2008</td>\n",
       "      <td>127400</td>\n",
       "      <td>588</td>\n",
       "      <td>1000</td>\n",
       "      <td>797</td>\n",
       "      <td>2008-01-01</td>\n",
       "    </tr>\n",
       "    <tr>\n",
       "      <th>5</th>\n",
       "      <td>CHENNAI</td>\n",
       "      <td>January</td>\n",
       "      <td>2009</td>\n",
       "      <td>111320</td>\n",
       "      <td>1428</td>\n",
       "      <td>2028</td>\n",
       "      <td>1762</td>\n",
       "      <td>2009-01-01</td>\n",
       "    </tr>\n",
       "    <tr>\n",
       "      <th>6</th>\n",
       "      <td>CHENNAI</td>\n",
       "      <td>January</td>\n",
       "      <td>2010</td>\n",
       "      <td>110000</td>\n",
       "      <td>1639</td>\n",
       "      <td>2259</td>\n",
       "      <td>1980</td>\n",
       "      <td>2010-01-01</td>\n",
       "    </tr>\n",
       "    <tr>\n",
       "      <th>7</th>\n",
       "      <td>CHENNAI</td>\n",
       "      <td>January</td>\n",
       "      <td>2011</td>\n",
       "      <td>102000</td>\n",
       "      <td>3583</td>\n",
       "      <td>4583</td>\n",
       "      <td>4083</td>\n",
       "      <td>2011-01-01</td>\n",
       "    </tr>\n",
       "    <tr>\n",
       "      <th>8</th>\n",
       "      <td>CHENNAI</td>\n",
       "      <td>January</td>\n",
       "      <td>2012</td>\n",
       "      <td>126000</td>\n",
       "      <td>771</td>\n",
       "      <td>1013</td>\n",
       "      <td>892</td>\n",
       "      <td>2012-01-01</td>\n",
       "    </tr>\n",
       "    <tr>\n",
       "      <th>9</th>\n",
       "      <td>CHENNAI</td>\n",
       "      <td>January</td>\n",
       "      <td>2013</td>\n",
       "      <td>116700</td>\n",
       "      <td>1786</td>\n",
       "      <td>2132</td>\n",
       "      <td>1964</td>\n",
       "      <td>2013-01-01</td>\n",
       "    </tr>\n",
       "  </tbody>\n",
       "</table>\n",
       "</div>"
      ],
      "text/plain": [
       "    market    month  year  quantity  priceMin  priceMax  priceMod       date\n",
       "0  CHENNAI  January  2004    103400       798      1019       910 2004-01-01\n",
       "1  CHENNAI  January  2005    120500       430       638       533 2005-01-01\n",
       "2  CHENNAI  January  2006    111900       428       621       524 2006-01-01\n",
       "3  CHENNAI  January  2007     84800       900      1370      1129 2007-01-01\n",
       "4  CHENNAI  January  2008    127400       588      1000       797 2008-01-01\n",
       "5  CHENNAI  January  2009    111320      1428      2028      1762 2009-01-01\n",
       "6  CHENNAI  January  2010    110000      1639      2259      1980 2010-01-01\n",
       "7  CHENNAI  January  2011    102000      3583      4583      4083 2011-01-01\n",
       "8  CHENNAI  January  2012    126000       771      1013       892 2012-01-01\n",
       "9  CHENNAI  January  2013    116700      1786      2132      1964 2013-01-01"
      ]
     },
     "execution_count": 32,
     "metadata": {},
     "output_type": "execute_result"
    }
   ],
   "source": [
    "df.head(10)"
   ]
  },
  {
   "cell_type": "markdown",
   "metadata": {},
   "source": [
    "### Saving the cleaned Dataframe"
   ]
  },
  {
   "cell_type": "code",
   "execution_count": 33,
   "metadata": {},
   "outputs": [],
   "source": [
    "df.to_csv('MonthWiseMarketArrivals_ChennaiCleaned.csv', index = False)"
   ]
  }
 ],
 "metadata": {
  "kernelspec": {
   "display_name": "Python 3",
   "language": "python",
   "name": "python3"
  },
  "language_info": {
   "codemirror_mode": {
    "name": "ipython",
    "version": 3
   },
   "file_extension": ".py",
   "mimetype": "text/x-python",
   "name": "python",
   "nbconvert_exporter": "python",
   "pygments_lexer": "ipython3",
   "version": "3.7.6"
  },
  "toc": {
   "base_numbering": 1,
   "nav_menu": {},
   "number_sections": true,
   "sideBar": true,
   "skip_h1_title": false,
   "title_cell": "Table of Contents",
   "title_sidebar": "Contents",
   "toc_cell": false,
   "toc_position": {},
   "toc_section_display": true,
   "toc_window_display": false
  }
 },
 "nbformat": 4,
 "nbformat_minor": 4
}
