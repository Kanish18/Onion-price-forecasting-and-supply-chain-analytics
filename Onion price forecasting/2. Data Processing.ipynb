{
 "cells": [
  {
   "cell_type": "markdown",
   "metadata": {},
   "source": [
    "\"Data is messy\"\n",
    "We will be performing the following operation on our Onion price to refine it.\n",
    "\n",
    "1. Remove e.g. remove redundant data from the data frame\n",
    "2. Parse e.g. extract date from year and month column"
   ]
  },
  {
   "cell_type": "markdown",
   "metadata": {},
   "source": [
    "### Importing essential libraries"
   ]
  },
  {
   "cell_type": "code",
   "execution_count": 16,
   "metadata": {},
   "outputs": [],
   "source": [
    "import numpy as np\n",
    "import pandas as pd"
   ]
  },
  {
   "cell_type": "markdown",
   "metadata": {},
   "source": [
    "### Reading the DataFrame"
   ]
  },
  {
   "cell_type": "code",
   "execution_count": 17,
   "metadata": {},
   "outputs": [],
   "source": [
    "df = pd.read_excel('MonthWiseMarketArrivals_Chennai.xlsx')"
   ]
  },
  {
   "cell_type": "code",
   "execution_count": 18,
   "metadata": {},
   "outputs": [
    {
     "data": {
      "text/html": [
       "<div>\n",
       "<style scoped>\n",
       "    .dataframe tbody tr th:only-of-type {\n",
       "        vertical-align: middle;\n",
       "    }\n",
       "\n",
       "    .dataframe tbody tr th {\n",
       "        vertical-align: top;\n",
       "    }\n",
       "\n",
       "    .dataframe thead th {\n",
       "        text-align: right;\n",
       "    }\n",
       "</style>\n",
       "<table border=\"1\" class=\"dataframe\">\n",
       "  <thead>\n",
       "    <tr style=\"text-align: right;\">\n",
       "      <th></th>\n",
       "      <th>market</th>\n",
       "      <th>month</th>\n",
       "      <th>year</th>\n",
       "      <th>quantity</th>\n",
       "      <th>priceMin</th>\n",
       "      <th>priceMax</th>\n",
       "      <th>priceMod</th>\n",
       "    </tr>\n",
       "  </thead>\n",
       "  <tbody>\n",
       "    <tr>\n",
       "      <th>0</th>\n",
       "      <td>CHENNAI</td>\n",
       "      <td>January</td>\n",
       "      <td>2004</td>\n",
       "      <td>103400</td>\n",
       "      <td>798</td>\n",
       "      <td>1019</td>\n",
       "      <td>910</td>\n",
       "    </tr>\n",
       "    <tr>\n",
       "      <th>1</th>\n",
       "      <td>CHENNAI</td>\n",
       "      <td>February</td>\n",
       "      <td>2004</td>\n",
       "      <td>87800</td>\n",
       "      <td>776</td>\n",
       "      <td>969</td>\n",
       "      <td>873</td>\n",
       "    </tr>\n",
       "    <tr>\n",
       "      <th>2</th>\n",
       "      <td>CHENNAI</td>\n",
       "      <td>March</td>\n",
       "      <td>2004</td>\n",
       "      <td>102180</td>\n",
       "      <td>506</td>\n",
       "      <td>656</td>\n",
       "      <td>580</td>\n",
       "    </tr>\n",
       "    <tr>\n",
       "      <th>3</th>\n",
       "      <td>CHENNAI</td>\n",
       "      <td>April</td>\n",
       "      <td>2004</td>\n",
       "      <td>83300</td>\n",
       "      <td>448</td>\n",
       "      <td>599</td>\n",
       "      <td>527</td>\n",
       "    </tr>\n",
       "    <tr>\n",
       "      <th>4</th>\n",
       "      <td>CHENNAI</td>\n",
       "      <td>May</td>\n",
       "      <td>2004</td>\n",
       "      <td>84850</td>\n",
       "      <td>462</td>\n",
       "      <td>596</td>\n",
       "      <td>529</td>\n",
       "    </tr>\n",
       "    <tr>\n",
       "      <th>5</th>\n",
       "      <td>CHENNAI</td>\n",
       "      <td>June</td>\n",
       "      <td>2004</td>\n",
       "      <td>97100</td>\n",
       "      <td>480</td>\n",
       "      <td>619</td>\n",
       "      <td>555</td>\n",
       "    </tr>\n",
       "    <tr>\n",
       "      <th>6</th>\n",
       "      <td>CHENNAI</td>\n",
       "      <td>July</td>\n",
       "      <td>2004</td>\n",
       "      <td>95200</td>\n",
       "      <td>502</td>\n",
       "      <td>627</td>\n",
       "      <td>566</td>\n",
       "    </tr>\n",
       "    <tr>\n",
       "      <th>7</th>\n",
       "      <td>CHENNAI</td>\n",
       "      <td>August</td>\n",
       "      <td>2004</td>\n",
       "      <td>100600</td>\n",
       "      <td>527</td>\n",
       "      <td>711</td>\n",
       "      <td>618</td>\n",
       "    </tr>\n",
       "    <tr>\n",
       "      <th>8</th>\n",
       "      <td>CHENNAI</td>\n",
       "      <td>September</td>\n",
       "      <td>2004</td>\n",
       "      <td>98200</td>\n",
       "      <td>411</td>\n",
       "      <td>633</td>\n",
       "      <td>529</td>\n",
       "    </tr>\n",
       "    <tr>\n",
       "      <th>9</th>\n",
       "      <td>CHENNAI</td>\n",
       "      <td>October</td>\n",
       "      <td>2004</td>\n",
       "      <td>111200</td>\n",
       "      <td>429</td>\n",
       "      <td>608</td>\n",
       "      <td>522</td>\n",
       "    </tr>\n",
       "  </tbody>\n",
       "</table>\n",
       "</div>"
      ],
      "text/plain": [
       "    market      month  year  quantity  priceMin  priceMax  priceMod\n",
       "0  CHENNAI    January  2004    103400       798      1019       910\n",
       "1  CHENNAI   February  2004     87800       776       969       873\n",
       "2  CHENNAI      March  2004    102180       506       656       580\n",
       "3  CHENNAI      April  2004     83300       448       599       527\n",
       "4  CHENNAI        May  2004     84850       462       596       529\n",
       "5  CHENNAI       June  2004     97100       480       619       555\n",
       "6  CHENNAI       July  2004     95200       502       627       566\n",
       "7  CHENNAI     August  2004    100600       527       711       618\n",
       "8  CHENNAI  September  2004     98200       411       633       529\n",
       "9  CHENNAI    October  2004    111200       429       608       522"
      ]
     },
     "execution_count": 18,
     "metadata": {},
     "output_type": "execute_result"
    }
   ],
   "source": [
    "df.head(10)"
   ]
  },
  {
   "cell_type": "code",
   "execution_count": 19,
   "metadata": {},
   "outputs": [
    {
     "data": {
      "text/plain": [
       "(209, 7)"
      ]
     },
     "execution_count": 19,
     "metadata": {},
     "output_type": "execute_result"
    }
   ],
   "source": [
    "df.shape"
   ]
  },
  {
   "cell_type": "markdown",
   "metadata": {},
   "source": [
    "### Checking for null values and removing it"
   ]
  },
  {
   "cell_type": "code",
   "execution_count": 20,
   "metadata": {},
   "outputs": [
    {
     "data": {
      "text/plain": [
       "market      0\n",
       "month       0\n",
       "year        0\n",
       "quantity    0\n",
       "priceMin    0\n",
       "priceMax    0\n",
       "priceMod    0\n",
       "dtype: int64"
      ]
     },
     "execution_count": 20,
     "metadata": {},
     "output_type": "execute_result"
    }
   ],
   "source": [
    "df.isna().sum()"
   ]
  },
  {
   "cell_type": "code",
   "execution_count": 21,
   "metadata": {},
   "outputs": [],
   "source": [
    "df.dropna(inplace = True)"
   ]
  },
  {
   "cell_type": "code",
   "execution_count": 22,
   "metadata": {},
   "outputs": [
    {
     "data": {
      "text/plain": [
       "market      object\n",
       "month       object\n",
       "year         int64\n",
       "quantity     int64\n",
       "priceMin     int64\n",
       "priceMax     int64\n",
       "priceMod     int64\n",
       "dtype: object"
      ]
     },
     "execution_count": 22,
     "metadata": {},
     "output_type": "execute_result"
    }
   ],
   "source": [
    "df.dtypes"
   ]
  },
  {
   "cell_type": "markdown",
   "metadata": {},
   "source": [
    "### Changing the datatypes for integer values"
   ]
  },
  {
   "cell_type": "code",
   "execution_count": 23,
   "metadata": {},
   "outputs": [],
   "source": [
    "df.iloc[:,2:7] = df.iloc[:,2:7].astype(int)"
   ]
  },
  {
   "cell_type": "code",
   "execution_count": 24,
   "metadata": {},
   "outputs": [
    {
     "data": {
      "text/plain": [
       "market      object\n",
       "month       object\n",
       "year         int32\n",
       "quantity     int32\n",
       "priceMin     int32\n",
       "priceMax     int32\n",
       "priceMod     int32\n",
       "dtype: object"
      ]
     },
     "execution_count": 24,
     "metadata": {},
     "output_type": "execute_result"
    }
   ],
   "source": [
    "df.dtypes"
   ]
  },
  {
   "cell_type": "code",
   "execution_count": 25,
   "metadata": {},
   "outputs": [
    {
     "data": {
      "text/html": [
       "<div>\n",
       "<style scoped>\n",
       "    .dataframe tbody tr th:only-of-type {\n",
       "        vertical-align: middle;\n",
       "    }\n",
       "\n",
       "    .dataframe tbody tr th {\n",
       "        vertical-align: top;\n",
       "    }\n",
       "\n",
       "    .dataframe thead th {\n",
       "        text-align: right;\n",
       "    }\n",
       "</style>\n",
       "<table border=\"1\" class=\"dataframe\">\n",
       "  <thead>\n",
       "    <tr style=\"text-align: right;\">\n",
       "      <th></th>\n",
       "      <th>year</th>\n",
       "      <th>quantity</th>\n",
       "      <th>priceMin</th>\n",
       "      <th>priceMax</th>\n",
       "      <th>priceMod</th>\n",
       "    </tr>\n",
       "  </thead>\n",
       "  <tbody>\n",
       "    <tr>\n",
       "      <th>count</th>\n",
       "      <td>209.000000</td>\n",
       "      <td>209.000000</td>\n",
       "      <td>209.000000</td>\n",
       "      <td>209.000000</td>\n",
       "      <td>209.000000</td>\n",
       "    </tr>\n",
       "    <tr>\n",
       "      <th>mean</th>\n",
       "      <td>2012.215311</td>\n",
       "      <td>109775.416268</td>\n",
       "      <td>1461.177033</td>\n",
       "      <td>1815.736842</td>\n",
       "      <td>1643.909091</td>\n",
       "    </tr>\n",
       "    <tr>\n",
       "      <th>std</th>\n",
       "      <td>5.043708</td>\n",
       "      <td>15999.821163</td>\n",
       "      <td>1158.614525</td>\n",
       "      <td>1331.778237</td>\n",
       "      <td>1244.599869</td>\n",
       "    </tr>\n",
       "    <tr>\n",
       "      <th>min</th>\n",
       "      <td>2004.000000</td>\n",
       "      <td>63000.000000</td>\n",
       "      <td>304.000000</td>\n",
       "      <td>456.000000</td>\n",
       "      <td>384.000000</td>\n",
       "    </tr>\n",
       "    <tr>\n",
       "      <th>25%</th>\n",
       "      <td>2008.000000</td>\n",
       "      <td>100500.000000</td>\n",
       "      <td>755.000000</td>\n",
       "      <td>1013.000000</td>\n",
       "      <td>883.000000</td>\n",
       "    </tr>\n",
       "    <tr>\n",
       "      <th>50%</th>\n",
       "      <td>2012.000000</td>\n",
       "      <td>110200.000000</td>\n",
       "      <td>1092.000000</td>\n",
       "      <td>1457.000000</td>\n",
       "      <td>1263.000000</td>\n",
       "    </tr>\n",
       "    <tr>\n",
       "      <th>75%</th>\n",
       "      <td>2017.000000</td>\n",
       "      <td>119900.000000</td>\n",
       "      <td>1800.000000</td>\n",
       "      <td>2204.000000</td>\n",
       "      <td>1980.000000</td>\n",
       "    </tr>\n",
       "    <tr>\n",
       "      <th>max</th>\n",
       "      <td>2021.000000</td>\n",
       "      <td>150400.000000</td>\n",
       "      <td>8696.000000</td>\n",
       "      <td>11130.000000</td>\n",
       "      <td>9876.000000</td>\n",
       "    </tr>\n",
       "  </tbody>\n",
       "</table>\n",
       "</div>"
      ],
      "text/plain": [
       "              year       quantity     priceMin      priceMax     priceMod\n",
       "count   209.000000     209.000000   209.000000    209.000000   209.000000\n",
       "mean   2012.215311  109775.416268  1461.177033   1815.736842  1643.909091\n",
       "std       5.043708   15999.821163  1158.614525   1331.778237  1244.599869\n",
       "min    2004.000000   63000.000000   304.000000    456.000000   384.000000\n",
       "25%    2008.000000  100500.000000   755.000000   1013.000000   883.000000\n",
       "50%    2012.000000  110200.000000  1092.000000   1457.000000  1263.000000\n",
       "75%    2017.000000  119900.000000  1800.000000   2204.000000  1980.000000\n",
       "max    2021.000000  150400.000000  8696.000000  11130.000000  9876.000000"
      ]
     },
     "execution_count": 25,
     "metadata": {},
     "output_type": "execute_result"
    }
   ],
   "source": [
    "df.describe()"
   ]
  },
  {
   "cell_type": "markdown",
   "metadata": {},
   "source": [
    "### Finding the dates"
   ]
  },
  {
   "cell_type": "code",
   "execution_count": 26,
   "metadata": {},
   "outputs": [
    {
     "data": {
      "text/html": [
       "<div>\n",
       "<style scoped>\n",
       "    .dataframe tbody tr th:only-of-type {\n",
       "        vertical-align: middle;\n",
       "    }\n",
       "\n",
       "    .dataframe tbody tr th {\n",
       "        vertical-align: top;\n",
       "    }\n",
       "\n",
       "    .dataframe thead th {\n",
       "        text-align: right;\n",
       "    }\n",
       "</style>\n",
       "<table border=\"1\" class=\"dataframe\">\n",
       "  <thead>\n",
       "    <tr style=\"text-align: right;\">\n",
       "      <th></th>\n",
       "      <th>market</th>\n",
       "      <th>month</th>\n",
       "      <th>year</th>\n",
       "      <th>quantity</th>\n",
       "      <th>priceMin</th>\n",
       "      <th>priceMax</th>\n",
       "      <th>priceMod</th>\n",
       "      <th>date</th>\n",
       "    </tr>\n",
       "  </thead>\n",
       "  <tbody>\n",
       "    <tr>\n",
       "      <th>0</th>\n",
       "      <td>CHENNAI</td>\n",
       "      <td>January</td>\n",
       "      <td>2004</td>\n",
       "      <td>103400</td>\n",
       "      <td>798</td>\n",
       "      <td>1019</td>\n",
       "      <td>910</td>\n",
       "      <td>January-2004</td>\n",
       "    </tr>\n",
       "    <tr>\n",
       "      <th>1</th>\n",
       "      <td>CHENNAI</td>\n",
       "      <td>February</td>\n",
       "      <td>2004</td>\n",
       "      <td>87800</td>\n",
       "      <td>776</td>\n",
       "      <td>969</td>\n",
       "      <td>873</td>\n",
       "      <td>February-2004</td>\n",
       "    </tr>\n",
       "    <tr>\n",
       "      <th>2</th>\n",
       "      <td>CHENNAI</td>\n",
       "      <td>March</td>\n",
       "      <td>2004</td>\n",
       "      <td>102180</td>\n",
       "      <td>506</td>\n",
       "      <td>656</td>\n",
       "      <td>580</td>\n",
       "      <td>March-2004</td>\n",
       "    </tr>\n",
       "    <tr>\n",
       "      <th>3</th>\n",
       "      <td>CHENNAI</td>\n",
       "      <td>April</td>\n",
       "      <td>2004</td>\n",
       "      <td>83300</td>\n",
       "      <td>448</td>\n",
       "      <td>599</td>\n",
       "      <td>527</td>\n",
       "      <td>April-2004</td>\n",
       "    </tr>\n",
       "    <tr>\n",
       "      <th>4</th>\n",
       "      <td>CHENNAI</td>\n",
       "      <td>May</td>\n",
       "      <td>2004</td>\n",
       "      <td>84850</td>\n",
       "      <td>462</td>\n",
       "      <td>596</td>\n",
       "      <td>529</td>\n",
       "      <td>May-2004</td>\n",
       "    </tr>\n",
       "  </tbody>\n",
       "</table>\n",
       "</div>"
      ],
      "text/plain": [
       "    market     month  year  quantity  priceMin  priceMax  priceMod  \\\n",
       "0  CHENNAI   January  2004    103400       798      1019       910   \n",
       "1  CHENNAI  February  2004     87800       776       969       873   \n",
       "2  CHENNAI     March  2004    102180       506       656       580   \n",
       "3  CHENNAI     April  2004     83300       448       599       527   \n",
       "4  CHENNAI       May  2004     84850       462       596       529   \n",
       "\n",
       "            date  \n",
       "0   January-2004  \n",
       "1  February-2004  \n",
       "2     March-2004  \n",
       "3     April-2004  \n",
       "4       May-2004  "
      ]
     },
     "execution_count": 26,
     "metadata": {},
     "output_type": "execute_result"
    }
   ],
   "source": [
    "df[\"date\"] = df[\"month\"] + \"-\" + df[\"year\"].map(str)\n",
    "df.head()"
   ]
  },
  {
   "cell_type": "code",
   "execution_count": 27,
   "metadata": {},
   "outputs": [
    {
     "data": {
      "text/plain": [
       "Int64Index([  0,   1,   2,   3,   4,   5,   6,   7,   8,   9,\n",
       "            ...\n",
       "            199, 200, 201, 202, 203, 204, 205, 206, 207, 208],\n",
       "           dtype='int64', length=209)"
      ]
     },
     "execution_count": 27,
     "metadata": {},
     "output_type": "execute_result"
    }
   ],
   "source": [
    "index = pd.to_datetime(df.date)\n",
    "df.date = pd.DatetimeIndex(df.date)\n",
    "df.index"
   ]
  },
  {
   "cell_type": "code",
   "execution_count": 28,
   "metadata": {},
   "outputs": [
    {
     "data": {
      "text/html": [
       "<div>\n",
       "<style scoped>\n",
       "    .dataframe tbody tr th:only-of-type {\n",
       "        vertical-align: middle;\n",
       "    }\n",
       "\n",
       "    .dataframe tbody tr th {\n",
       "        vertical-align: top;\n",
       "    }\n",
       "\n",
       "    .dataframe thead th {\n",
       "        text-align: right;\n",
       "    }\n",
       "</style>\n",
       "<table border=\"1\" class=\"dataframe\">\n",
       "  <thead>\n",
       "    <tr style=\"text-align: right;\">\n",
       "      <th></th>\n",
       "      <th>market</th>\n",
       "      <th>month</th>\n",
       "      <th>year</th>\n",
       "      <th>quantity</th>\n",
       "      <th>priceMin</th>\n",
       "      <th>priceMax</th>\n",
       "      <th>priceMod</th>\n",
       "      <th>date</th>\n",
       "    </tr>\n",
       "  </thead>\n",
       "  <tbody>\n",
       "    <tr>\n",
       "      <th>0</th>\n",
       "      <td>CHENNAI</td>\n",
       "      <td>January</td>\n",
       "      <td>2004</td>\n",
       "      <td>103400</td>\n",
       "      <td>798</td>\n",
       "      <td>1019</td>\n",
       "      <td>910</td>\n",
       "      <td>2004-01-01</td>\n",
       "    </tr>\n",
       "    <tr>\n",
       "      <th>1</th>\n",
       "      <td>CHENNAI</td>\n",
       "      <td>February</td>\n",
       "      <td>2004</td>\n",
       "      <td>87800</td>\n",
       "      <td>776</td>\n",
       "      <td>969</td>\n",
       "      <td>873</td>\n",
       "      <td>2004-02-01</td>\n",
       "    </tr>\n",
       "    <tr>\n",
       "      <th>2</th>\n",
       "      <td>CHENNAI</td>\n",
       "      <td>March</td>\n",
       "      <td>2004</td>\n",
       "      <td>102180</td>\n",
       "      <td>506</td>\n",
       "      <td>656</td>\n",
       "      <td>580</td>\n",
       "      <td>2004-03-01</td>\n",
       "    </tr>\n",
       "    <tr>\n",
       "      <th>3</th>\n",
       "      <td>CHENNAI</td>\n",
       "      <td>April</td>\n",
       "      <td>2004</td>\n",
       "      <td>83300</td>\n",
       "      <td>448</td>\n",
       "      <td>599</td>\n",
       "      <td>527</td>\n",
       "      <td>2004-04-01</td>\n",
       "    </tr>\n",
       "    <tr>\n",
       "      <th>4</th>\n",
       "      <td>CHENNAI</td>\n",
       "      <td>May</td>\n",
       "      <td>2004</td>\n",
       "      <td>84850</td>\n",
       "      <td>462</td>\n",
       "      <td>596</td>\n",
       "      <td>529</td>\n",
       "      <td>2004-05-01</td>\n",
       "    </tr>\n",
       "    <tr>\n",
       "      <th>5</th>\n",
       "      <td>CHENNAI</td>\n",
       "      <td>June</td>\n",
       "      <td>2004</td>\n",
       "      <td>97100</td>\n",
       "      <td>480</td>\n",
       "      <td>619</td>\n",
       "      <td>555</td>\n",
       "      <td>2004-06-01</td>\n",
       "    </tr>\n",
       "    <tr>\n",
       "      <th>6</th>\n",
       "      <td>CHENNAI</td>\n",
       "      <td>July</td>\n",
       "      <td>2004</td>\n",
       "      <td>95200</td>\n",
       "      <td>502</td>\n",
       "      <td>627</td>\n",
       "      <td>566</td>\n",
       "      <td>2004-07-01</td>\n",
       "    </tr>\n",
       "    <tr>\n",
       "      <th>7</th>\n",
       "      <td>CHENNAI</td>\n",
       "      <td>August</td>\n",
       "      <td>2004</td>\n",
       "      <td>100600</td>\n",
       "      <td>527</td>\n",
       "      <td>711</td>\n",
       "      <td>618</td>\n",
       "      <td>2004-08-01</td>\n",
       "    </tr>\n",
       "    <tr>\n",
       "      <th>8</th>\n",
       "      <td>CHENNAI</td>\n",
       "      <td>September</td>\n",
       "      <td>2004</td>\n",
       "      <td>98200</td>\n",
       "      <td>411</td>\n",
       "      <td>633</td>\n",
       "      <td>529</td>\n",
       "      <td>2004-09-01</td>\n",
       "    </tr>\n",
       "    <tr>\n",
       "      <th>9</th>\n",
       "      <td>CHENNAI</td>\n",
       "      <td>October</td>\n",
       "      <td>2004</td>\n",
       "      <td>111200</td>\n",
       "      <td>429</td>\n",
       "      <td>608</td>\n",
       "      <td>522</td>\n",
       "      <td>2004-10-01</td>\n",
       "    </tr>\n",
       "  </tbody>\n",
       "</table>\n",
       "</div>"
      ],
      "text/plain": [
       "    market      month  year  quantity  priceMin  priceMax  priceMod       date\n",
       "0  CHENNAI    January  2004    103400       798      1019       910 2004-01-01\n",
       "1  CHENNAI   February  2004     87800       776       969       873 2004-02-01\n",
       "2  CHENNAI      March  2004    102180       506       656       580 2004-03-01\n",
       "3  CHENNAI      April  2004     83300       448       599       527 2004-04-01\n",
       "4  CHENNAI        May  2004     84850       462       596       529 2004-05-01\n",
       "5  CHENNAI       June  2004     97100       480       619       555 2004-06-01\n",
       "6  CHENNAI       July  2004     95200       502       627       566 2004-07-01\n",
       "7  CHENNAI     August  2004    100600       527       711       618 2004-08-01\n",
       "8  CHENNAI  September  2004     98200       411       633       529 2004-09-01\n",
       "9  CHENNAI    October  2004    111200       429       608       522 2004-10-01"
      ]
     },
     "execution_count": 28,
     "metadata": {},
     "output_type": "execute_result"
    }
   ],
   "source": [
    "df.head(10)"
   ]
  },
  {
   "cell_type": "markdown",
   "metadata": {},
   "source": [
    "### Saving the cleaned Dataframe"
   ]
  },
  {
   "cell_type": "code",
   "execution_count": 29,
   "metadata": {},
   "outputs": [],
   "source": [
    "df.to_csv('MonthWiseMarketArrivals_ChennaiCleaned.csv', index = False)"
   ]
  }
 ],
 "metadata": {
  "kernelspec": {
   "display_name": "Python 3",
   "language": "python",
   "name": "python3"
  },
  "language_info": {
   "codemirror_mode": {
    "name": "ipython",
    "version": 3
   },
   "file_extension": ".py",
   "mimetype": "text/x-python",
   "name": "python",
   "nbconvert_exporter": "python",
   "pygments_lexer": "ipython3",
   "version": "3.7.6"
  },
  "toc": {
   "base_numbering": 1,
   "nav_menu": {},
   "number_sections": true,
   "sideBar": true,
   "skip_h1_title": false,
   "title_cell": "Table of Contents",
   "title_sidebar": "Contents",
   "toc_cell": false,
   "toc_position": {},
   "toc_section_display": true,
   "toc_window_display": false
  }
 },
 "nbformat": 4,
 "nbformat_minor": 4
}
