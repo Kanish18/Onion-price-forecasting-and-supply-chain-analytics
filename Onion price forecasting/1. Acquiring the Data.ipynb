{
 "cells": [
  {
   "cell_type": "markdown",
   "metadata": {},
   "source": [
    "NHRDF - This is the website of National Horticultural Research & Development Foundation and maintains a database on Market Arrivals and Price, Area and Production and Export Data for three commodities - Garlic, Onion and Potatoes. We are in luck! It also has data from 1996 onwards and has only got one form to fill to get the data in a tabular form. Further it also has production and export data. Excellent. Lets use this. Here is the best link to got to get all that is available - http://nhrdf.org/en-us/DatabaseReports"
   ]
  },
  {
   "cell_type": "markdown",
   "metadata": {},
   "source": [
    "### Scrapping the Data"
   ]
  },
  {
   "cell_type": "markdown",
   "metadata": {},
   "source": [
    "So let us fill the form to get data and test our scraping process.( http://nhrdf.org/en-us/MonthWiseMarketArrivals ).\n",
    "\n",
    "1. Crop Name: Onion\n",
    "2. Month: All\n",
    "3. Market: Chennai\n",
    "4. Year: All"
   ]
  },
  {
   "cell_type": "markdown",
   "metadata": {},
   "source": [
    "### Importing library and loading html file"
   ]
  },
  {
   "cell_type": "code",
   "execution_count": 10,
   "metadata": {},
   "outputs": [],
   "source": [
    "import pandas as pd"
   ]
  },
  {
   "cell_type": "code",
   "execution_count": 11,
   "metadata": {},
   "outputs": [],
   "source": [
    "table_1 = pd.read_html('MonthWiseMarketArrivals.html', \n",
    "                      attrs = {'id' : 'dnn_ctr974_MonthWiseMarketArrivals_GridView1'})"
   ]
  },
  {
   "cell_type": "code",
   "execution_count": 12,
   "metadata": {},
   "outputs": [
    {
     "data": {
      "text/html": [
       "<div>\n",
       "<style scoped>\n",
       "    .dataframe tbody tr th:only-of-type {\n",
       "        vertical-align: middle;\n",
       "    }\n",
       "\n",
       "    .dataframe tbody tr th {\n",
       "        vertical-align: top;\n",
       "    }\n",
       "\n",
       "    .dataframe thead th {\n",
       "        text-align: right;\n",
       "    }\n",
       "</style>\n",
       "<table border=\"1\" class=\"dataframe\">\n",
       "  <thead>\n",
       "    <tr style=\"text-align: right;\">\n",
       "      <th></th>\n",
       "      <th>Market</th>\n",
       "      <th>Month Name</th>\n",
       "      <th>Year</th>\n",
       "      <th>Arrival (q)</th>\n",
       "      <th>Price Minimum (Rs/q)</th>\n",
       "      <th>Price Maximum (Rs/q)</th>\n",
       "      <th>Modal Price (Rs/q)</th>\n",
       "    </tr>\n",
       "  </thead>\n",
       "  <tbody>\n",
       "    <tr>\n",
       "      <th>0</th>\n",
       "      <td>CHENNAI</td>\n",
       "      <td>January</td>\n",
       "      <td>2004</td>\n",
       "      <td>103400</td>\n",
       "      <td>798</td>\n",
       "      <td>1019</td>\n",
       "      <td>910</td>\n",
       "    </tr>\n",
       "    <tr>\n",
       "      <th>1</th>\n",
       "      <td>CHENNAI</td>\n",
       "      <td>January</td>\n",
       "      <td>2005</td>\n",
       "      <td>120500</td>\n",
       "      <td>430</td>\n",
       "      <td>638</td>\n",
       "      <td>533</td>\n",
       "    </tr>\n",
       "    <tr>\n",
       "      <th>2</th>\n",
       "      <td>CHENNAI</td>\n",
       "      <td>January</td>\n",
       "      <td>2006</td>\n",
       "      <td>111900</td>\n",
       "      <td>428</td>\n",
       "      <td>621</td>\n",
       "      <td>524</td>\n",
       "    </tr>\n",
       "    <tr>\n",
       "      <th>3</th>\n",
       "      <td>CHENNAI</td>\n",
       "      <td>January</td>\n",
       "      <td>2007</td>\n",
       "      <td>84800</td>\n",
       "      <td>900</td>\n",
       "      <td>1370</td>\n",
       "      <td>1129</td>\n",
       "    </tr>\n",
       "    <tr>\n",
       "      <th>4</th>\n",
       "      <td>CHENNAI</td>\n",
       "      <td>January</td>\n",
       "      <td>2008</td>\n",
       "      <td>127400</td>\n",
       "      <td>588</td>\n",
       "      <td>1000</td>\n",
       "      <td>797</td>\n",
       "    </tr>\n",
       "    <tr>\n",
       "      <th>5</th>\n",
       "      <td>CHENNAI</td>\n",
       "      <td>January</td>\n",
       "      <td>2009</td>\n",
       "      <td>111320</td>\n",
       "      <td>1428</td>\n",
       "      <td>2028</td>\n",
       "      <td>1762</td>\n",
       "    </tr>\n",
       "    <tr>\n",
       "      <th>6</th>\n",
       "      <td>CHENNAI</td>\n",
       "      <td>January</td>\n",
       "      <td>2010</td>\n",
       "      <td>110000</td>\n",
       "      <td>1639</td>\n",
       "      <td>2259</td>\n",
       "      <td>1980</td>\n",
       "    </tr>\n",
       "    <tr>\n",
       "      <th>7</th>\n",
       "      <td>CHENNAI</td>\n",
       "      <td>January</td>\n",
       "      <td>2011</td>\n",
       "      <td>102000</td>\n",
       "      <td>3583</td>\n",
       "      <td>4583</td>\n",
       "      <td>4083</td>\n",
       "    </tr>\n",
       "    <tr>\n",
       "      <th>8</th>\n",
       "      <td>CHENNAI</td>\n",
       "      <td>January</td>\n",
       "      <td>2012</td>\n",
       "      <td>126000</td>\n",
       "      <td>771</td>\n",
       "      <td>1013</td>\n",
       "      <td>892</td>\n",
       "    </tr>\n",
       "    <tr>\n",
       "      <th>9</th>\n",
       "      <td>CHENNAI</td>\n",
       "      <td>January</td>\n",
       "      <td>2013</td>\n",
       "      <td>116700</td>\n",
       "      <td>1786</td>\n",
       "      <td>2132</td>\n",
       "      <td>1964</td>\n",
       "    </tr>\n",
       "  </tbody>\n",
       "</table>\n",
       "</div>"
      ],
      "text/plain": [
       "    Market Month Name  Year  Arrival (q) Price Minimum (Rs/q)  \\\n",
       "0  CHENNAI    January  2004       103400                  798   \n",
       "1  CHENNAI    January  2005       120500                  430   \n",
       "2  CHENNAI    January  2006       111900                  428   \n",
       "3  CHENNAI    January  2007        84800                  900   \n",
       "4  CHENNAI    January  2008       127400                  588   \n",
       "5  CHENNAI    January  2009       111320                 1428   \n",
       "6  CHENNAI    January  2010       110000                 1639   \n",
       "7  CHENNAI    January  2011       102000                 3583   \n",
       "8  CHENNAI    January  2012       126000                  771   \n",
       "9  CHENNAI    January  2013       116700                 1786   \n",
       "\n",
       "  Price Maximum (Rs/q) Modal Price (Rs/q)  \n",
       "0                 1019                910  \n",
       "1                  638                533  \n",
       "2                  621                524  \n",
       "3                 1370               1129  \n",
       "4                 1000                797  \n",
       "5                 2028               1762  \n",
       "6                 2259               1980  \n",
       "7                 4583               4083  \n",
       "8                 1013                892  \n",
       "9                 2132               1964  "
      ]
     },
     "execution_count": 12,
     "metadata": {},
     "output_type": "execute_result"
    }
   ],
   "source": [
    "table_1[0].head(10)"
   ]
  },
  {
   "cell_type": "markdown",
   "metadata": {},
   "source": [
    "### Creating Data Frame"
   ]
  },
  {
   "cell_type": "code",
   "execution_count": 13,
   "metadata": {},
   "outputs": [],
   "source": [
    "df = table_1[0]"
   ]
  },
  {
   "cell_type": "code",
   "execution_count": 14,
   "metadata": {},
   "outputs": [
    {
     "data": {
      "text/plain": [
       "(196, 7)"
      ]
     },
     "execution_count": 14,
     "metadata": {},
     "output_type": "execute_result"
    }
   ],
   "source": [
    "df.shape"
   ]
  },
  {
   "cell_type": "code",
   "execution_count": 15,
   "metadata": {},
   "outputs": [
    {
     "data": {
      "text/plain": [
       "array(['2004', '2005', '2006', '2007', '2008', '2009', '2010', '2011',\n",
       "       '2012', '2013', '2014', '2015', '2016', '2017', '2018', '2019',\n",
       "       '2020', 'Total'], dtype=object)"
      ]
     },
     "execution_count": 15,
     "metadata": {},
     "output_type": "execute_result"
    }
   ],
   "source": [
    "pd.unique(df['Year'])"
   ]
  },
  {
   "cell_type": "code",
   "execution_count": 16,
   "metadata": {},
   "outputs": [],
   "source": [
    "df.columns = ['market', 'month', 'year', 'quantity', 'priceMin', 'priceMax', 'priceMod']"
   ]
  },
  {
   "cell_type": "code",
   "execution_count": 17,
   "metadata": {},
   "outputs": [
    {
     "data": {
      "text/html": [
       "<div>\n",
       "<style scoped>\n",
       "    .dataframe tbody tr th:only-of-type {\n",
       "        vertical-align: middle;\n",
       "    }\n",
       "\n",
       "    .dataframe tbody tr th {\n",
       "        vertical-align: top;\n",
       "    }\n",
       "\n",
       "    .dataframe thead th {\n",
       "        text-align: right;\n",
       "    }\n",
       "</style>\n",
       "<table border=\"1\" class=\"dataframe\">\n",
       "  <thead>\n",
       "    <tr style=\"text-align: right;\">\n",
       "      <th></th>\n",
       "      <th>market</th>\n",
       "      <th>month</th>\n",
       "      <th>year</th>\n",
       "      <th>quantity</th>\n",
       "      <th>priceMin</th>\n",
       "      <th>priceMax</th>\n",
       "      <th>priceMod</th>\n",
       "    </tr>\n",
       "  </thead>\n",
       "  <tbody>\n",
       "    <tr>\n",
       "      <th>0</th>\n",
       "      <td>CHENNAI</td>\n",
       "      <td>January</td>\n",
       "      <td>2004</td>\n",
       "      <td>103400</td>\n",
       "      <td>798</td>\n",
       "      <td>1019</td>\n",
       "      <td>910</td>\n",
       "    </tr>\n",
       "    <tr>\n",
       "      <th>1</th>\n",
       "      <td>CHENNAI</td>\n",
       "      <td>January</td>\n",
       "      <td>2005</td>\n",
       "      <td>120500</td>\n",
       "      <td>430</td>\n",
       "      <td>638</td>\n",
       "      <td>533</td>\n",
       "    </tr>\n",
       "    <tr>\n",
       "      <th>2</th>\n",
       "      <td>CHENNAI</td>\n",
       "      <td>January</td>\n",
       "      <td>2006</td>\n",
       "      <td>111900</td>\n",
       "      <td>428</td>\n",
       "      <td>621</td>\n",
       "      <td>524</td>\n",
       "    </tr>\n",
       "    <tr>\n",
       "      <th>3</th>\n",
       "      <td>CHENNAI</td>\n",
       "      <td>January</td>\n",
       "      <td>2007</td>\n",
       "      <td>84800</td>\n",
       "      <td>900</td>\n",
       "      <td>1370</td>\n",
       "      <td>1129</td>\n",
       "    </tr>\n",
       "    <tr>\n",
       "      <th>4</th>\n",
       "      <td>CHENNAI</td>\n",
       "      <td>January</td>\n",
       "      <td>2008</td>\n",
       "      <td>127400</td>\n",
       "      <td>588</td>\n",
       "      <td>1000</td>\n",
       "      <td>797</td>\n",
       "    </tr>\n",
       "    <tr>\n",
       "      <th>5</th>\n",
       "      <td>CHENNAI</td>\n",
       "      <td>January</td>\n",
       "      <td>2009</td>\n",
       "      <td>111320</td>\n",
       "      <td>1428</td>\n",
       "      <td>2028</td>\n",
       "      <td>1762</td>\n",
       "    </tr>\n",
       "    <tr>\n",
       "      <th>6</th>\n",
       "      <td>CHENNAI</td>\n",
       "      <td>January</td>\n",
       "      <td>2010</td>\n",
       "      <td>110000</td>\n",
       "      <td>1639</td>\n",
       "      <td>2259</td>\n",
       "      <td>1980</td>\n",
       "    </tr>\n",
       "    <tr>\n",
       "      <th>7</th>\n",
       "      <td>CHENNAI</td>\n",
       "      <td>January</td>\n",
       "      <td>2011</td>\n",
       "      <td>102000</td>\n",
       "      <td>3583</td>\n",
       "      <td>4583</td>\n",
       "      <td>4083</td>\n",
       "    </tr>\n",
       "    <tr>\n",
       "      <th>8</th>\n",
       "      <td>CHENNAI</td>\n",
       "      <td>January</td>\n",
       "      <td>2012</td>\n",
       "      <td>126000</td>\n",
       "      <td>771</td>\n",
       "      <td>1013</td>\n",
       "      <td>892</td>\n",
       "    </tr>\n",
       "    <tr>\n",
       "      <th>9</th>\n",
       "      <td>CHENNAI</td>\n",
       "      <td>January</td>\n",
       "      <td>2013</td>\n",
       "      <td>116700</td>\n",
       "      <td>1786</td>\n",
       "      <td>2132</td>\n",
       "      <td>1964</td>\n",
       "    </tr>\n",
       "  </tbody>\n",
       "</table>\n",
       "</div>"
      ],
      "text/plain": [
       "    market    month  year  quantity priceMin priceMax priceMod\n",
       "0  CHENNAI  January  2004    103400      798     1019      910\n",
       "1  CHENNAI  January  2005    120500      430      638      533\n",
       "2  CHENNAI  January  2006    111900      428      621      524\n",
       "3  CHENNAI  January  2007     84800      900     1370     1129\n",
       "4  CHENNAI  January  2008    127400      588     1000      797\n",
       "5  CHENNAI  January  2009    111320     1428     2028     1762\n",
       "6  CHENNAI  January  2010    110000     1639     2259     1980\n",
       "7  CHENNAI  January  2011    102000     3583     4583     4083\n",
       "8  CHENNAI  January  2012    126000      771     1013      892\n",
       "9  CHENNAI  January  2013    116700     1786     2132     1964"
      ]
     },
     "execution_count": 17,
     "metadata": {},
     "output_type": "execute_result"
    }
   ],
   "source": [
    "df.head(10)"
   ]
  },
  {
   "cell_type": "markdown",
   "metadata": {},
   "source": [
    "### Saving Dataframe to csv file"
   ]
  },
  {
   "cell_type": "code",
   "execution_count": 18,
   "metadata": {},
   "outputs": [],
   "source": [
    "df.to_csv('MonthWiseMarketArrivals_Chennai.csv', index = False)"
   ]
  }
 ],
 "metadata": {
  "kernelspec": {
   "display_name": "Python 3",
   "language": "python",
   "name": "python3"
  },
  "language_info": {
   "codemirror_mode": {
    "name": "ipython",
    "version": 3
   },
   "file_extension": ".py",
   "mimetype": "text/x-python",
   "name": "python",
   "nbconvert_exporter": "python",
   "pygments_lexer": "ipython3",
   "version": "3.7.6"
  },
  "toc": {
   "base_numbering": 1,
   "nav_menu": {},
   "number_sections": true,
   "sideBar": true,
   "skip_h1_title": false,
   "title_cell": "Table of Contents",
   "title_sidebar": "Contents",
   "toc_cell": false,
   "toc_position": {},
   "toc_section_display": true,
   "toc_window_display": false
  }
 },
 "nbformat": 4,
 "nbformat_minor": 4
}
